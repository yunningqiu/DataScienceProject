{
  "nbformat": 4,
  "nbformat_minor": 0,
  "metadata": {
    "colab": {
      "name": "DSO 510 project.ipynb",
      "provenance": [],
      "collapsed_sections": [
        "BHzv8rUrPr7V",
        "bbiKeC0ggUG9",
        "sDLhVOUnU43d",
        "NepVzjsVzRss"
      ]
    },
    "kernelspec": {
      "display_name": "Python 3",
      "name": "python3"
    },
    "language_info": {
      "name": "python"
    }
  },
  "cells": [
    {
      "cell_type": "markdown",
      "metadata": {
        "id": "p2RrnGSuj5gx"
      },
      "source": [
        "# Introduction"
      ]
    },
    {
      "cell_type": "markdown",
      "metadata": {
        "id": "TZITj3h7qidW"
      },
      "source": [
        "Students who aspire to be software engineers probably already have spent four years of hard work earning their bachelor's degrees. It's a big decision whether they should go straight to the workforce or continue studying in school because of time and money. We want to investigate whether it is worth it to embark on a graduate education by looking at how much more or fewer workers who had a master's degree earned compared with workers who had a bachelor's degree in software engineering."
      ]
    },
    {
      "cell_type": "markdown",
      "metadata": {
        "id": "-pB7Q-hXkTG6"
      },
      "source": [
        "The problem we seek to answer: \n",
        "\n",
        "Does a master's degree come with a higher compensation (base salary + bonus + stock grants) in software engineering?\n",
        "\n",
        "If we find significantly larger compensation for software engineers with a master degree than those without, we could then make the conclusion that two more years of educational experience is indeed worth the time and money."
      ]
    },
    {
      "cell_type": "markdown",
      "metadata": {
        "id": "227BM_EAkZTT"
      },
      "source": [
        "#### The ideal experiment\n",
        "- Random sampling: randomly select software engineers from a database of all STEM firms in the US region and calculate average compensation of those with and without a master degree. Our database only limit to workers from the top STEM companies.\n",
        "- Control: When investigating factors that affect total compensation for software engineers, other confounding variables should be strictly controlled.  "
      ]
    },
    {
      "cell_type": "markdown",
      "metadata": {
        "id": "BHzv8rUrPr7V"
      },
      "source": [
        "## Import and Select the Data We Need"
      ]
    },
    {
      "cell_type": "code",
      "metadata": {
        "id": "Wg8a4cWLfx4z"
      },
      "source": [
        "!pip install -U -q PyDrive\n",
        "\n",
        "from pydrive.auth import GoogleAuth\n",
        "from pydrive.drive import GoogleDrive\n",
        "from google.colab import auth\n",
        "from oauth2client.client import GoogleCredentials\n",
        "\n",
        "auth.authenticate_user()\n",
        "gauth = GoogleAuth()\n",
        "gauth.credentials = GoogleCredentials.get_application_default()\n",
        "drive = GoogleDrive(gauth)"
      ],
      "execution_count": null,
      "outputs": []
    },
    {
      "cell_type": "code",
      "metadata": {
        "id": "Sa5Puo0zjIK1"
      },
      "source": [
        "id = '1XrzzqHhuT2b9PNw3mS0TRixU1YXkidDy'\n",
        "file = drive.CreateFile({'id':id}) \n",
        "file.GetContentFile('Levels_Fyi_Salary_Data.csv')"
      ],
      "execution_count": null,
      "outputs": []
    },
    {
      "cell_type": "code",
      "metadata": {
        "colab": {
          "base_uri": "https://localhost:8080/",
          "height": 348
        },
        "id": "Dg0NcJfggUrI",
        "outputId": "ee0938bc-87ce-4bf0-da89-c63eb6a4e9ea"
      },
      "source": [
        "import pandas as pd\n",
        "\n",
        "df = pd.read_csv('Levels_Fyi_Salary_Data.csv')\n",
        "df.head()"
      ],
      "execution_count": null,
      "outputs": [
        {
          "output_type": "execute_result",
          "data": {
            "text/html": [
              "<div>\n",
              "<style scoped>\n",
              "    .dataframe tbody tr th:only-of-type {\n",
              "        vertical-align: middle;\n",
              "    }\n",
              "\n",
              "    .dataframe tbody tr th {\n",
              "        vertical-align: top;\n",
              "    }\n",
              "\n",
              "    .dataframe thead th {\n",
              "        text-align: right;\n",
              "    }\n",
              "</style>\n",
              "<table border=\"1\" class=\"dataframe\">\n",
              "  <thead>\n",
              "    <tr style=\"text-align: right;\">\n",
              "      <th></th>\n",
              "      <th>timestamp</th>\n",
              "      <th>company</th>\n",
              "      <th>level</th>\n",
              "      <th>title</th>\n",
              "      <th>totalyearlycompensation</th>\n",
              "      <th>location</th>\n",
              "      <th>yearsofexperience</th>\n",
              "      <th>yearsatcompany</th>\n",
              "      <th>tag</th>\n",
              "      <th>basesalary</th>\n",
              "      <th>stockgrantvalue</th>\n",
              "      <th>bonus</th>\n",
              "      <th>gender</th>\n",
              "      <th>otherdetails</th>\n",
              "      <th>cityid</th>\n",
              "      <th>dmaid</th>\n",
              "      <th>rowNumber</th>\n",
              "      <th>Masters_Degree</th>\n",
              "      <th>Bachelors_Degree</th>\n",
              "      <th>Doctorate_Degree</th>\n",
              "      <th>Highschool</th>\n",
              "      <th>Some_College</th>\n",
              "      <th>Race_Asian</th>\n",
              "      <th>Race_White</th>\n",
              "      <th>Race_Two_Or_More</th>\n",
              "      <th>Race_Black</th>\n",
              "      <th>Race_Hispanic</th>\n",
              "      <th>Race</th>\n",
              "      <th>Education</th>\n",
              "    </tr>\n",
              "  </thead>\n",
              "  <tbody>\n",
              "    <tr>\n",
              "      <th>0</th>\n",
              "      <td>6/7/2017 11:33:27</td>\n",
              "      <td>Oracle</td>\n",
              "      <td>L3</td>\n",
              "      <td>Product Manager</td>\n",
              "      <td>127000</td>\n",
              "      <td>Redwood City, CA</td>\n",
              "      <td>1.5</td>\n",
              "      <td>1.5</td>\n",
              "      <td>NaN</td>\n",
              "      <td>107000.0</td>\n",
              "      <td>20000.0</td>\n",
              "      <td>10000.0</td>\n",
              "      <td>NaN</td>\n",
              "      <td>NaN</td>\n",
              "      <td>7392</td>\n",
              "      <td>807.0</td>\n",
              "      <td>1</td>\n",
              "      <td>0</td>\n",
              "      <td>0</td>\n",
              "      <td>0</td>\n",
              "      <td>0</td>\n",
              "      <td>0</td>\n",
              "      <td>0</td>\n",
              "      <td>0</td>\n",
              "      <td>0</td>\n",
              "      <td>0</td>\n",
              "      <td>0</td>\n",
              "      <td>NaN</td>\n",
              "      <td>NaN</td>\n",
              "    </tr>\n",
              "    <tr>\n",
              "      <th>1</th>\n",
              "      <td>6/10/2017 17:11:29</td>\n",
              "      <td>eBay</td>\n",
              "      <td>SE 2</td>\n",
              "      <td>Software Engineer</td>\n",
              "      <td>100000</td>\n",
              "      <td>San Francisco, CA</td>\n",
              "      <td>5.0</td>\n",
              "      <td>3.0</td>\n",
              "      <td>NaN</td>\n",
              "      <td>0.0</td>\n",
              "      <td>0.0</td>\n",
              "      <td>0.0</td>\n",
              "      <td>NaN</td>\n",
              "      <td>NaN</td>\n",
              "      <td>7419</td>\n",
              "      <td>807.0</td>\n",
              "      <td>2</td>\n",
              "      <td>0</td>\n",
              "      <td>0</td>\n",
              "      <td>0</td>\n",
              "      <td>0</td>\n",
              "      <td>0</td>\n",
              "      <td>0</td>\n",
              "      <td>0</td>\n",
              "      <td>0</td>\n",
              "      <td>0</td>\n",
              "      <td>0</td>\n",
              "      <td>NaN</td>\n",
              "      <td>NaN</td>\n",
              "    </tr>\n",
              "    <tr>\n",
              "      <th>2</th>\n",
              "      <td>6/11/2017 14:53:57</td>\n",
              "      <td>Amazon</td>\n",
              "      <td>L7</td>\n",
              "      <td>Product Manager</td>\n",
              "      <td>310000</td>\n",
              "      <td>Seattle, WA</td>\n",
              "      <td>8.0</td>\n",
              "      <td>0.0</td>\n",
              "      <td>NaN</td>\n",
              "      <td>155000.0</td>\n",
              "      <td>0.0</td>\n",
              "      <td>0.0</td>\n",
              "      <td>NaN</td>\n",
              "      <td>NaN</td>\n",
              "      <td>11527</td>\n",
              "      <td>819.0</td>\n",
              "      <td>3</td>\n",
              "      <td>0</td>\n",
              "      <td>0</td>\n",
              "      <td>0</td>\n",
              "      <td>0</td>\n",
              "      <td>0</td>\n",
              "      <td>0</td>\n",
              "      <td>0</td>\n",
              "      <td>0</td>\n",
              "      <td>0</td>\n",
              "      <td>0</td>\n",
              "      <td>NaN</td>\n",
              "      <td>NaN</td>\n",
              "    </tr>\n",
              "    <tr>\n",
              "      <th>3</th>\n",
              "      <td>6/17/2017 0:23:14</td>\n",
              "      <td>Apple</td>\n",
              "      <td>M1</td>\n",
              "      <td>Software Engineering Manager</td>\n",
              "      <td>372000</td>\n",
              "      <td>Sunnyvale, CA</td>\n",
              "      <td>7.0</td>\n",
              "      <td>5.0</td>\n",
              "      <td>NaN</td>\n",
              "      <td>157000.0</td>\n",
              "      <td>180000.0</td>\n",
              "      <td>35000.0</td>\n",
              "      <td>NaN</td>\n",
              "      <td>NaN</td>\n",
              "      <td>7472</td>\n",
              "      <td>807.0</td>\n",
              "      <td>7</td>\n",
              "      <td>0</td>\n",
              "      <td>0</td>\n",
              "      <td>0</td>\n",
              "      <td>0</td>\n",
              "      <td>0</td>\n",
              "      <td>0</td>\n",
              "      <td>0</td>\n",
              "      <td>0</td>\n",
              "      <td>0</td>\n",
              "      <td>0</td>\n",
              "      <td>NaN</td>\n",
              "      <td>NaN</td>\n",
              "    </tr>\n",
              "    <tr>\n",
              "      <th>4</th>\n",
              "      <td>6/20/2017 10:58:51</td>\n",
              "      <td>Microsoft</td>\n",
              "      <td>60</td>\n",
              "      <td>Software Engineer</td>\n",
              "      <td>157000</td>\n",
              "      <td>Mountain View, CA</td>\n",
              "      <td>5.0</td>\n",
              "      <td>3.0</td>\n",
              "      <td>NaN</td>\n",
              "      <td>0.0</td>\n",
              "      <td>0.0</td>\n",
              "      <td>0.0</td>\n",
              "      <td>NaN</td>\n",
              "      <td>NaN</td>\n",
              "      <td>7322</td>\n",
              "      <td>807.0</td>\n",
              "      <td>9</td>\n",
              "      <td>0</td>\n",
              "      <td>0</td>\n",
              "      <td>0</td>\n",
              "      <td>0</td>\n",
              "      <td>0</td>\n",
              "      <td>0</td>\n",
              "      <td>0</td>\n",
              "      <td>0</td>\n",
              "      <td>0</td>\n",
              "      <td>0</td>\n",
              "      <td>NaN</td>\n",
              "      <td>NaN</td>\n",
              "    </tr>\n",
              "  </tbody>\n",
              "</table>\n",
              "</div>"
            ],
            "text/plain": [
              "            timestamp    company level  ... Race_Hispanic  Race Education\n",
              "0   6/7/2017 11:33:27     Oracle    L3  ...             0   NaN       NaN\n",
              "1  6/10/2017 17:11:29       eBay  SE 2  ...             0   NaN       NaN\n",
              "2  6/11/2017 14:53:57     Amazon    L7  ...             0   NaN       NaN\n",
              "3   6/17/2017 0:23:14      Apple    M1  ...             0   NaN       NaN\n",
              "4  6/20/2017 10:58:51  Microsoft    60  ...             0   NaN       NaN\n",
              "\n",
              "[5 rows x 29 columns]"
            ]
          },
          "metadata": {},
          "execution_count": 3
        }
      ]
    },
    {
      "cell_type": "code",
      "metadata": {
        "id": "fp1Dkz3DhELl",
        "colab": {
          "base_uri": "https://localhost:8080/"
        },
        "outputId": "06512982-46f5-424f-ca69-5054da734c77"
      },
      "source": [
        "import numpy as np\n",
        "import pandas as pd\n",
        "import matplotlib.pyplot as plt\n",
        "import seaborn as sns\n",
        "import scipy.stats as st\n",
        "import statsmodels.formula.api as sm"
      ],
      "execution_count": null,
      "outputs": [
        {
          "output_type": "stream",
          "name": "stderr",
          "text": [
            "/usr/local/lib/python3.7/dist-packages/statsmodels/tools/_testing.py:19: FutureWarning: pandas.util.testing is deprecated. Use the functions in the public API at pandas.testing instead.\n",
            "  import pandas.util.testing as tm\n"
          ]
        }
      ]
    },
    {
      "cell_type": "code",
      "metadata": {
        "colab": {
          "base_uri": "https://localhost:8080/"
        },
        "id": "gpzWDx0QRK67",
        "outputId": "2432f3f1-3d76-4d79-e600-af8fe710292a"
      },
      "source": [
        "df.info()"
      ],
      "execution_count": null,
      "outputs": [
        {
          "output_type": "stream",
          "name": "stdout",
          "text": [
            "<class 'pandas.core.frame.DataFrame'>\n",
            "RangeIndex: 62642 entries, 0 to 62641\n",
            "Data columns (total 29 columns):\n",
            " #   Column                   Non-Null Count  Dtype  \n",
            "---  ------                   --------------  -----  \n",
            " 0   timestamp                62642 non-null  object \n",
            " 1   company                  62637 non-null  object \n",
            " 2   level                    62523 non-null  object \n",
            " 3   title                    62642 non-null  object \n",
            " 4   totalyearlycompensation  62642 non-null  int64  \n",
            " 5   location                 62642 non-null  object \n",
            " 6   yearsofexperience        62642 non-null  float64\n",
            " 7   yearsatcompany           62642 non-null  float64\n",
            " 8   tag                      61788 non-null  object \n",
            " 9   basesalary               62642 non-null  float64\n",
            " 10  stockgrantvalue          62642 non-null  float64\n",
            " 11  bonus                    62642 non-null  float64\n",
            " 12  gender                   43102 non-null  object \n",
            " 13  otherdetails             40137 non-null  object \n",
            " 14  cityid                   62642 non-null  int64  \n",
            " 15  dmaid                    62640 non-null  float64\n",
            " 16  rowNumber                62642 non-null  int64  \n",
            " 17  Masters_Degree           62642 non-null  int64  \n",
            " 18  Bachelors_Degree         62642 non-null  int64  \n",
            " 19  Doctorate_Degree         62642 non-null  int64  \n",
            " 20  Highschool               62642 non-null  int64  \n",
            " 21  Some_College             62642 non-null  int64  \n",
            " 22  Race_Asian               62642 non-null  int64  \n",
            " 23  Race_White               62642 non-null  int64  \n",
            " 24  Race_Two_Or_More         62642 non-null  int64  \n",
            " 25  Race_Black               62642 non-null  int64  \n",
            " 26  Race_Hispanic            62642 non-null  int64  \n",
            " 27  Race                     22427 non-null  object \n",
            " 28  Education                30370 non-null  object \n",
            "dtypes: float64(6), int64(13), object(10)\n",
            "memory usage: 13.9+ MB\n"
          ]
        }
      ]
    },
    {
      "cell_type": "code",
      "metadata": {
        "colab": {
          "base_uri": "https://localhost:8080/"
        },
        "id": "MP-2tUi7SDPU",
        "outputId": "9d21d7f3-2c51-4720-932b-66714875c21b"
      },
      "source": [
        "round(df['Race'].isnull().sum()/df.shape[0]*100, 2)"
      ],
      "execution_count": null,
      "outputs": [
        {
          "output_type": "execute_result",
          "data": {
            "text/plain": [
              "64.2"
            ]
          },
          "metadata": {},
          "execution_count": 7
        }
      ]
    },
    {
      "cell_type": "code",
      "metadata": {
        "colab": {
          "base_uri": "https://localhost:8080/"
        },
        "id": "tUTK8tJEcgZN",
        "outputId": "de71ea9e-3302-4dcc-a898-d6dabe2089e1"
      },
      "source": [
        "df['otherdetails'].nunique()"
      ],
      "execution_count": null,
      "outputs": [
        {
          "output_type": "execute_result",
          "data": {
            "text/plain": [
              "12841"
            ]
          },
          "metadata": {},
          "execution_count": 8
        }
      ]
    },
    {
      "cell_type": "code",
      "metadata": {
        "colab": {
          "base_uri": "https://localhost:8080/"
        },
        "id": "kR1cvk8iT0oI",
        "outputId": "08b970bb-8258-4964-db2d-78f2d466af3d"
      },
      "source": [
        "df['tag'].nunique()"
      ],
      "execution_count": null,
      "outputs": [
        {
          "output_type": "execute_result",
          "data": {
            "text/plain": [
              "3058"
            ]
          },
          "metadata": {},
          "execution_count": 9
        }
      ]
    },
    {
      "cell_type": "code",
      "metadata": {
        "colab": {
          "base_uri": "https://localhost:8080/",
          "height": 400
        },
        "id": "I0b-V8Qu4Jon",
        "outputId": "2e06fe9e-d386-4305-dc1f-789e5f0dbe7a"
      },
      "source": [
        "df[df['tag'].notna()].head()"
      ],
      "execution_count": null,
      "outputs": [
        {
          "output_type": "execute_result",
          "data": {
            "text/html": [
              "<div>\n",
              "<style scoped>\n",
              "    .dataframe tbody tr th:only-of-type {\n",
              "        vertical-align: middle;\n",
              "    }\n",
              "\n",
              "    .dataframe tbody tr th {\n",
              "        vertical-align: top;\n",
              "    }\n",
              "\n",
              "    .dataframe thead th {\n",
              "        text-align: right;\n",
              "    }\n",
              "</style>\n",
              "<table border=\"1\" class=\"dataframe\">\n",
              "  <thead>\n",
              "    <tr style=\"text-align: right;\">\n",
              "      <th></th>\n",
              "      <th>timestamp</th>\n",
              "      <th>company</th>\n",
              "      <th>level</th>\n",
              "      <th>title</th>\n",
              "      <th>totalyearlycompensation</th>\n",
              "      <th>location</th>\n",
              "      <th>yearsofexperience</th>\n",
              "      <th>yearsatcompany</th>\n",
              "      <th>tag</th>\n",
              "      <th>basesalary</th>\n",
              "      <th>stockgrantvalue</th>\n",
              "      <th>bonus</th>\n",
              "      <th>gender</th>\n",
              "      <th>otherdetails</th>\n",
              "      <th>cityid</th>\n",
              "      <th>dmaid</th>\n",
              "      <th>rowNumber</th>\n",
              "      <th>Masters_Degree</th>\n",
              "      <th>Bachelors_Degree</th>\n",
              "      <th>Doctorate_Degree</th>\n",
              "      <th>Highschool</th>\n",
              "      <th>Some_College</th>\n",
              "      <th>Race_Asian</th>\n",
              "      <th>Race_White</th>\n",
              "      <th>Race_Two_Or_More</th>\n",
              "      <th>Race_Black</th>\n",
              "      <th>Race_Hispanic</th>\n",
              "      <th>Race</th>\n",
              "      <th>Education</th>\n",
              "    </tr>\n",
              "  </thead>\n",
              "  <tbody>\n",
              "    <tr>\n",
              "      <th>409</th>\n",
              "      <td>6/3/2018 13:58:20</td>\n",
              "      <td>Yahoo</td>\n",
              "      <td>IC2</td>\n",
              "      <td>Software Engineer</td>\n",
              "      <td>160500</td>\n",
              "      <td>Sunnyvale, CA</td>\n",
              "      <td>0.58</td>\n",
              "      <td>0.58</td>\n",
              "      <td>Full Stack</td>\n",
              "      <td>128000.0</td>\n",
              "      <td>13000.0</td>\n",
              "      <td>19200.0</td>\n",
              "      <td>Male</td>\n",
              "      <td>NaN</td>\n",
              "      <td>7472</td>\n",
              "      <td>807.0</td>\n",
              "      <td>791</td>\n",
              "      <td>0</td>\n",
              "      <td>0</td>\n",
              "      <td>0</td>\n",
              "      <td>0</td>\n",
              "      <td>0</td>\n",
              "      <td>0</td>\n",
              "      <td>0</td>\n",
              "      <td>0</td>\n",
              "      <td>0</td>\n",
              "      <td>0</td>\n",
              "      <td>NaN</td>\n",
              "      <td>NaN</td>\n",
              "    </tr>\n",
              "    <tr>\n",
              "      <th>410</th>\n",
              "      <td>6/4/2018 0:16:01</td>\n",
              "      <td>Oracle</td>\n",
              "      <td>M3</td>\n",
              "      <td>Software Engineering Manager</td>\n",
              "      <td>340000</td>\n",
              "      <td>Redwood City, CA</td>\n",
              "      <td>16.00</td>\n",
              "      <td>15.00</td>\n",
              "      <td>Distributed Systems (Back-End)</td>\n",
              "      <td>206000.0</td>\n",
              "      <td>134000.0</td>\n",
              "      <td>0.0</td>\n",
              "      <td>Male</td>\n",
              "      <td>NaN</td>\n",
              "      <td>7392</td>\n",
              "      <td>807.0</td>\n",
              "      <td>794</td>\n",
              "      <td>0</td>\n",
              "      <td>0</td>\n",
              "      <td>0</td>\n",
              "      <td>0</td>\n",
              "      <td>0</td>\n",
              "      <td>0</td>\n",
              "      <td>0</td>\n",
              "      <td>0</td>\n",
              "      <td>0</td>\n",
              "      <td>0</td>\n",
              "      <td>NaN</td>\n",
              "      <td>NaN</td>\n",
              "    </tr>\n",
              "    <tr>\n",
              "      <th>411</th>\n",
              "      <td>6/4/2018 19:56:27</td>\n",
              "      <td>Qualcomm</td>\n",
              "      <td>Senior Staff Engineer</td>\n",
              "      <td>Software Engineer</td>\n",
              "      <td>240000</td>\n",
              "      <td>Santa Clara, CA</td>\n",
              "      <td>15.00</td>\n",
              "      <td>6.00</td>\n",
              "      <td>Embedded Systems</td>\n",
              "      <td>0.0</td>\n",
              "      <td>0.0</td>\n",
              "      <td>0.0</td>\n",
              "      <td>Male</td>\n",
              "      <td>NaN</td>\n",
              "      <td>7434</td>\n",
              "      <td>807.0</td>\n",
              "      <td>797</td>\n",
              "      <td>0</td>\n",
              "      <td>0</td>\n",
              "      <td>0</td>\n",
              "      <td>0</td>\n",
              "      <td>0</td>\n",
              "      <td>0</td>\n",
              "      <td>0</td>\n",
              "      <td>0</td>\n",
              "      <td>0</td>\n",
              "      <td>0</td>\n",
              "      <td>NaN</td>\n",
              "      <td>NaN</td>\n",
              "    </tr>\n",
              "    <tr>\n",
              "      <th>412</th>\n",
              "      <td>6/4/2018 20:27:58</td>\n",
              "      <td>Splunk</td>\n",
              "      <td>P2</td>\n",
              "      <td>Software Engineer</td>\n",
              "      <td>160000</td>\n",
              "      <td>Seattle, WA</td>\n",
              "      <td>5.00</td>\n",
              "      <td>3.00</td>\n",
              "      <td>Full Stack</td>\n",
              "      <td>0.0</td>\n",
              "      <td>0.0</td>\n",
              "      <td>0.0</td>\n",
              "      <td>Male</td>\n",
              "      <td>NaN</td>\n",
              "      <td>11527</td>\n",
              "      <td>819.0</td>\n",
              "      <td>798</td>\n",
              "      <td>0</td>\n",
              "      <td>0</td>\n",
              "      <td>0</td>\n",
              "      <td>0</td>\n",
              "      <td>0</td>\n",
              "      <td>0</td>\n",
              "      <td>0</td>\n",
              "      <td>0</td>\n",
              "      <td>0</td>\n",
              "      <td>0</td>\n",
              "      <td>NaN</td>\n",
              "      <td>NaN</td>\n",
              "    </tr>\n",
              "    <tr>\n",
              "      <th>413</th>\n",
              "      <td>6/5/2018 12:44:52</td>\n",
              "      <td>Google</td>\n",
              "      <td>L3</td>\n",
              "      <td>Software Engineer</td>\n",
              "      <td>208000</td>\n",
              "      <td>Mountain View, CA</td>\n",
              "      <td>0.00</td>\n",
              "      <td>0.00</td>\n",
              "      <td>Distributed Systems (Back-End)</td>\n",
              "      <td>116000.0</td>\n",
              "      <td>65000.0</td>\n",
              "      <td>17000.0</td>\n",
              "      <td>Male</td>\n",
              "      <td>40k signing</td>\n",
              "      <td>7322</td>\n",
              "      <td>807.0</td>\n",
              "      <td>805</td>\n",
              "      <td>0</td>\n",
              "      <td>0</td>\n",
              "      <td>0</td>\n",
              "      <td>0</td>\n",
              "      <td>0</td>\n",
              "      <td>0</td>\n",
              "      <td>0</td>\n",
              "      <td>0</td>\n",
              "      <td>0</td>\n",
              "      <td>0</td>\n",
              "      <td>NaN</td>\n",
              "      <td>NaN</td>\n",
              "    </tr>\n",
              "  </tbody>\n",
              "</table>\n",
              "</div>"
            ],
            "text/plain": [
              "             timestamp   company  ... Race Education\n",
              "409  6/3/2018 13:58:20     Yahoo  ...  NaN       NaN\n",
              "410   6/4/2018 0:16:01    Oracle  ...  NaN       NaN\n",
              "411  6/4/2018 19:56:27  Qualcomm  ...  NaN       NaN\n",
              "412  6/4/2018 20:27:58    Splunk  ...  NaN       NaN\n",
              "413  6/5/2018 12:44:52    Google  ...  NaN       NaN\n",
              "\n",
              "[5 rows x 29 columns]"
            ]
          },
          "metadata": {},
          "execution_count": 10
        }
      ]
    },
    {
      "cell_type": "markdown",
      "metadata": {
        "id": "IAfrm475XxXE"
      },
      "source": [
        "- We drop the columns rowNumber, cityid and dmaid since we cannot extract effective information from those columns. \n",
        "- We drop the column Race because this columns contains too many missing values. (64.2% rows of this column are missing) and race info has been contained in other columns.\n",
        "- The columns otherdetails and tag are descriptive text describing the specific employee of that row that do not contribute much effective information to the aggregration level of analysis.\n",
        "- We drop the columns timestamp since we are not going to manipulate this dataset as Time Series data."
      ]
    },
    {
      "cell_type": "code",
      "metadata": {
        "colab": {
          "base_uri": "https://localhost:8080/",
          "height": 348
        },
        "id": "L88aMWd6RBtV",
        "outputId": "49a647e1-8693-45bd-8dbd-01c137fa080a"
      },
      "source": [
        "drop_list = ['rowNumber', 'cityid', 'dmaid', 'Race', 'otherdetails', 'tag', 'timestamp']\n",
        "\n",
        "data = df.drop(drop_list, axis = 1)\n",
        "data.head()"
      ],
      "execution_count": null,
      "outputs": [
        {
          "output_type": "execute_result",
          "data": {
            "text/html": [
              "<div>\n",
              "<style scoped>\n",
              "    .dataframe tbody tr th:only-of-type {\n",
              "        vertical-align: middle;\n",
              "    }\n",
              "\n",
              "    .dataframe tbody tr th {\n",
              "        vertical-align: top;\n",
              "    }\n",
              "\n",
              "    .dataframe thead th {\n",
              "        text-align: right;\n",
              "    }\n",
              "</style>\n",
              "<table border=\"1\" class=\"dataframe\">\n",
              "  <thead>\n",
              "    <tr style=\"text-align: right;\">\n",
              "      <th></th>\n",
              "      <th>company</th>\n",
              "      <th>level</th>\n",
              "      <th>title</th>\n",
              "      <th>totalyearlycompensation</th>\n",
              "      <th>location</th>\n",
              "      <th>yearsofexperience</th>\n",
              "      <th>yearsatcompany</th>\n",
              "      <th>basesalary</th>\n",
              "      <th>stockgrantvalue</th>\n",
              "      <th>bonus</th>\n",
              "      <th>gender</th>\n",
              "      <th>Masters_Degree</th>\n",
              "      <th>Bachelors_Degree</th>\n",
              "      <th>Doctorate_Degree</th>\n",
              "      <th>Highschool</th>\n",
              "      <th>Some_College</th>\n",
              "      <th>Race_Asian</th>\n",
              "      <th>Race_White</th>\n",
              "      <th>Race_Two_Or_More</th>\n",
              "      <th>Race_Black</th>\n",
              "      <th>Race_Hispanic</th>\n",
              "      <th>Education</th>\n",
              "    </tr>\n",
              "  </thead>\n",
              "  <tbody>\n",
              "    <tr>\n",
              "      <th>0</th>\n",
              "      <td>Oracle</td>\n",
              "      <td>L3</td>\n",
              "      <td>Product Manager</td>\n",
              "      <td>127000</td>\n",
              "      <td>Redwood City, CA</td>\n",
              "      <td>1.5</td>\n",
              "      <td>1.5</td>\n",
              "      <td>107000.0</td>\n",
              "      <td>20000.0</td>\n",
              "      <td>10000.0</td>\n",
              "      <td>NaN</td>\n",
              "      <td>0</td>\n",
              "      <td>0</td>\n",
              "      <td>0</td>\n",
              "      <td>0</td>\n",
              "      <td>0</td>\n",
              "      <td>0</td>\n",
              "      <td>0</td>\n",
              "      <td>0</td>\n",
              "      <td>0</td>\n",
              "      <td>0</td>\n",
              "      <td>NaN</td>\n",
              "    </tr>\n",
              "    <tr>\n",
              "      <th>1</th>\n",
              "      <td>eBay</td>\n",
              "      <td>SE 2</td>\n",
              "      <td>Software Engineer</td>\n",
              "      <td>100000</td>\n",
              "      <td>San Francisco, CA</td>\n",
              "      <td>5.0</td>\n",
              "      <td>3.0</td>\n",
              "      <td>0.0</td>\n",
              "      <td>0.0</td>\n",
              "      <td>0.0</td>\n",
              "      <td>NaN</td>\n",
              "      <td>0</td>\n",
              "      <td>0</td>\n",
              "      <td>0</td>\n",
              "      <td>0</td>\n",
              "      <td>0</td>\n",
              "      <td>0</td>\n",
              "      <td>0</td>\n",
              "      <td>0</td>\n",
              "      <td>0</td>\n",
              "      <td>0</td>\n",
              "      <td>NaN</td>\n",
              "    </tr>\n",
              "    <tr>\n",
              "      <th>2</th>\n",
              "      <td>Amazon</td>\n",
              "      <td>L7</td>\n",
              "      <td>Product Manager</td>\n",
              "      <td>310000</td>\n",
              "      <td>Seattle, WA</td>\n",
              "      <td>8.0</td>\n",
              "      <td>0.0</td>\n",
              "      <td>155000.0</td>\n",
              "      <td>0.0</td>\n",
              "      <td>0.0</td>\n",
              "      <td>NaN</td>\n",
              "      <td>0</td>\n",
              "      <td>0</td>\n",
              "      <td>0</td>\n",
              "      <td>0</td>\n",
              "      <td>0</td>\n",
              "      <td>0</td>\n",
              "      <td>0</td>\n",
              "      <td>0</td>\n",
              "      <td>0</td>\n",
              "      <td>0</td>\n",
              "      <td>NaN</td>\n",
              "    </tr>\n",
              "    <tr>\n",
              "      <th>3</th>\n",
              "      <td>Apple</td>\n",
              "      <td>M1</td>\n",
              "      <td>Software Engineering Manager</td>\n",
              "      <td>372000</td>\n",
              "      <td>Sunnyvale, CA</td>\n",
              "      <td>7.0</td>\n",
              "      <td>5.0</td>\n",
              "      <td>157000.0</td>\n",
              "      <td>180000.0</td>\n",
              "      <td>35000.0</td>\n",
              "      <td>NaN</td>\n",
              "      <td>0</td>\n",
              "      <td>0</td>\n",
              "      <td>0</td>\n",
              "      <td>0</td>\n",
              "      <td>0</td>\n",
              "      <td>0</td>\n",
              "      <td>0</td>\n",
              "      <td>0</td>\n",
              "      <td>0</td>\n",
              "      <td>0</td>\n",
              "      <td>NaN</td>\n",
              "    </tr>\n",
              "    <tr>\n",
              "      <th>4</th>\n",
              "      <td>Microsoft</td>\n",
              "      <td>60</td>\n",
              "      <td>Software Engineer</td>\n",
              "      <td>157000</td>\n",
              "      <td>Mountain View, CA</td>\n",
              "      <td>5.0</td>\n",
              "      <td>3.0</td>\n",
              "      <td>0.0</td>\n",
              "      <td>0.0</td>\n",
              "      <td>0.0</td>\n",
              "      <td>NaN</td>\n",
              "      <td>0</td>\n",
              "      <td>0</td>\n",
              "      <td>0</td>\n",
              "      <td>0</td>\n",
              "      <td>0</td>\n",
              "      <td>0</td>\n",
              "      <td>0</td>\n",
              "      <td>0</td>\n",
              "      <td>0</td>\n",
              "      <td>0</td>\n",
              "      <td>NaN</td>\n",
              "    </tr>\n",
              "  </tbody>\n",
              "</table>\n",
              "</div>"
            ],
            "text/plain": [
              "     company level  ... Race_Hispanic  Education\n",
              "0     Oracle    L3  ...             0        NaN\n",
              "1       eBay  SE 2  ...             0        NaN\n",
              "2     Amazon    L7  ...             0        NaN\n",
              "3      Apple    M1  ...             0        NaN\n",
              "4  Microsoft    60  ...             0        NaN\n",
              "\n",
              "[5 rows x 22 columns]"
            ]
          },
          "metadata": {},
          "execution_count": 11
        }
      ]
    },
    {
      "cell_type": "code",
      "metadata": {
        "colab": {
          "base_uri": "https://localhost:8080/"
        },
        "id": "LvdH53XYz2lL",
        "outputId": "2eec2141-b773-4224-a43c-6efc7e089a4a"
      },
      "source": [
        "data.info()"
      ],
      "execution_count": null,
      "outputs": [
        {
          "output_type": "stream",
          "name": "stdout",
          "text": [
            "<class 'pandas.core.frame.DataFrame'>\n",
            "RangeIndex: 62642 entries, 0 to 62641\n",
            "Data columns (total 22 columns):\n",
            " #   Column                   Non-Null Count  Dtype  \n",
            "---  ------                   --------------  -----  \n",
            " 0   company                  62637 non-null  object \n",
            " 1   level                    62523 non-null  object \n",
            " 2   title                    62642 non-null  object \n",
            " 3   totalyearlycompensation  62642 non-null  int64  \n",
            " 4   location                 62642 non-null  object \n",
            " 5   yearsofexperience        62642 non-null  float64\n",
            " 6   yearsatcompany           62642 non-null  float64\n",
            " 7   basesalary               62642 non-null  float64\n",
            " 8   stockgrantvalue          62642 non-null  float64\n",
            " 9   bonus                    62642 non-null  float64\n",
            " 10  gender                   43102 non-null  object \n",
            " 11  Masters_Degree           62642 non-null  int64  \n",
            " 12  Bachelors_Degree         62642 non-null  int64  \n",
            " 13  Doctorate_Degree         62642 non-null  int64  \n",
            " 14  Highschool               62642 non-null  int64  \n",
            " 15  Some_College             62642 non-null  int64  \n",
            " 16  Race_Asian               62642 non-null  int64  \n",
            " 17  Race_White               62642 non-null  int64  \n",
            " 18  Race_Two_Or_More         62642 non-null  int64  \n",
            " 19  Race_Black               62642 non-null  int64  \n",
            " 20  Race_Hispanic            62642 non-null  int64  \n",
            " 21  Education                30370 non-null  object \n",
            "dtypes: float64(5), int64(11), object(6)\n",
            "memory usage: 10.5+ MB\n"
          ]
        }
      ]
    },
    {
      "cell_type": "markdown",
      "metadata": {
        "id": "bbiKeC0ggUG9"
      },
      "source": [
        "# PART 1: Data Cleaning"
      ]
    },
    {
      "cell_type": "markdown",
      "metadata": {
        "id": "DdrOIIsBdunN"
      },
      "source": [
        "## 1.1 Checking Missing Values"
      ]
    },
    {
      "cell_type": "code",
      "metadata": {
        "colab": {
          "base_uri": "https://localhost:8080/"
        },
        "id": "qACc8hHfcF3_",
        "outputId": "edc6b12b-5c38-4f8b-cc2a-b58aa5c1744d"
      },
      "source": [
        "data.isnull().sum()"
      ],
      "execution_count": null,
      "outputs": [
        {
          "output_type": "execute_result",
          "data": {
            "text/plain": [
              "company                        5\n",
              "level                        119\n",
              "title                          0\n",
              "totalyearlycompensation        0\n",
              "location                       0\n",
              "yearsofexperience              0\n",
              "yearsatcompany                 0\n",
              "basesalary                     0\n",
              "stockgrantvalue                0\n",
              "bonus                          0\n",
              "gender                     19540\n",
              "Masters_Degree                 0\n",
              "Bachelors_Degree               0\n",
              "Doctorate_Degree               0\n",
              "Highschool                     0\n",
              "Some_College                   0\n",
              "Race_Asian                     0\n",
              "Race_White                     0\n",
              "Race_Two_Or_More               0\n",
              "Race_Black                     0\n",
              "Race_Hispanic                  0\n",
              "Education                  32272\n",
              "dtype: int64"
            ]
          },
          "metadata": {},
          "execution_count": 13
        }
      ]
    },
    {
      "cell_type": "markdown",
      "metadata": {
        "id": "XeZ2ZeyEd2ir"
      },
      "source": [
        "- 52% of the column Eduation are missing values. We just focus on the part of data that the Education values are not missing."
      ]
    },
    {
      "cell_type": "code",
      "metadata": {
        "colab": {
          "base_uri": "https://localhost:8080/"
        },
        "id": "em7NEomteGIP",
        "outputId": "4c9e16fb-8595-43d3-dc64-4633916a1cee"
      },
      "source": [
        "data = data[data[\"Education\"].notna()]\n",
        "data.isnull().sum()"
      ],
      "execution_count": null,
      "outputs": [
        {
          "output_type": "execute_result",
          "data": {
            "text/plain": [
              "company                       2\n",
              "level                        61\n",
              "title                         0\n",
              "totalyearlycompensation       0\n",
              "location                      0\n",
              "yearsofexperience             0\n",
              "yearsatcompany                0\n",
              "basesalary                    0\n",
              "stockgrantvalue               0\n",
              "bonus                         0\n",
              "gender                     2604\n",
              "Masters_Degree                0\n",
              "Bachelors_Degree              0\n",
              "Doctorate_Degree              0\n",
              "Highschool                    0\n",
              "Some_College                  0\n",
              "Race_Asian                    0\n",
              "Race_White                    0\n",
              "Race_Two_Or_More              0\n",
              "Race_Black                    0\n",
              "Race_Hispanic                 0\n",
              "Education                     0\n",
              "dtype: int64"
            ]
          },
          "metadata": {},
          "execution_count": 14
        }
      ]
    },
    {
      "cell_type": "markdown",
      "metadata": {
        "id": "mDDqDg_SftY6"
      },
      "source": [
        "- There are still missing values in the column company, level, and gender. We just drop the rows that contain missing values in those columns."
      ]
    },
    {
      "cell_type": "code",
      "metadata": {
        "colab": {
          "base_uri": "https://localhost:8080/"
        },
        "id": "Ee36iO_xe8M-",
        "outputId": "cfe5bea3-8e35-47ca-99ee-7fe4cd39f696"
      },
      "source": [
        "data = data.dropna(axis = 0)\n",
        "data.isnull().sum()"
      ],
      "execution_count": null,
      "outputs": [
        {
          "output_type": "execute_result",
          "data": {
            "text/plain": [
              "company                    0\n",
              "level                      0\n",
              "title                      0\n",
              "totalyearlycompensation    0\n",
              "location                   0\n",
              "yearsofexperience          0\n",
              "yearsatcompany             0\n",
              "basesalary                 0\n",
              "stockgrantvalue            0\n",
              "bonus                      0\n",
              "gender                     0\n",
              "Masters_Degree             0\n",
              "Bachelors_Degree           0\n",
              "Doctorate_Degree           0\n",
              "Highschool                 0\n",
              "Some_College               0\n",
              "Race_Asian                 0\n",
              "Race_White                 0\n",
              "Race_Two_Or_More           0\n",
              "Race_Black                 0\n",
              "Race_Hispanic              0\n",
              "Education                  0\n",
              "dtype: int64"
            ]
          },
          "metadata": {},
          "execution_count": 15
        }
      ]
    },
    {
      "cell_type": "code",
      "metadata": {
        "colab": {
          "base_uri": "https://localhost:8080/"
        },
        "id": "bd3yol1zxTe-",
        "outputId": "888bc710-48a4-4ce8-c533-40d09535abd1"
      },
      "source": [
        "data.info()"
      ],
      "execution_count": null,
      "outputs": [
        {
          "output_type": "stream",
          "name": "stdout",
          "text": [
            "<class 'pandas.core.frame.DataFrame'>\n",
            "Int64Index: 27709 entries, 3427 to 61991\n",
            "Data columns (total 22 columns):\n",
            " #   Column                   Non-Null Count  Dtype  \n",
            "---  ------                   --------------  -----  \n",
            " 0   company                  27709 non-null  object \n",
            " 1   level                    27709 non-null  object \n",
            " 2   title                    27709 non-null  object \n",
            " 3   totalyearlycompensation  27709 non-null  int64  \n",
            " 4   location                 27709 non-null  object \n",
            " 5   yearsofexperience        27709 non-null  float64\n",
            " 6   yearsatcompany           27709 non-null  float64\n",
            " 7   basesalary               27709 non-null  float64\n",
            " 8   stockgrantvalue          27709 non-null  float64\n",
            " 9   bonus                    27709 non-null  float64\n",
            " 10  gender                   27709 non-null  object \n",
            " 11  Masters_Degree           27709 non-null  int64  \n",
            " 12  Bachelors_Degree         27709 non-null  int64  \n",
            " 13  Doctorate_Degree         27709 non-null  int64  \n",
            " 14  Highschool               27709 non-null  int64  \n",
            " 15  Some_College             27709 non-null  int64  \n",
            " 16  Race_Asian               27709 non-null  int64  \n",
            " 17  Race_White               27709 non-null  int64  \n",
            " 18  Race_Two_Or_More         27709 non-null  int64  \n",
            " 19  Race_Black               27709 non-null  int64  \n",
            " 20  Race_Hispanic            27709 non-null  int64  \n",
            " 21  Education                27709 non-null  object \n",
            "dtypes: float64(5), int64(11), object(6)\n",
            "memory usage: 4.9+ MB\n"
          ]
        }
      ]
    },
    {
      "cell_type": "markdown",
      "metadata": {
        "id": "lorllsSOxg70"
      },
      "source": [
        "After data cleaning, we now have 27709 rows data."
      ]
    },
    {
      "cell_type": "markdown",
      "metadata": {
        "id": "iKS-lUopgMRl"
      },
      "source": [
        "## 1.2 Checking Outliers"
      ]
    },
    {
      "cell_type": "code",
      "metadata": {
        "colab": {
          "base_uri": "https://localhost:8080/"
        },
        "id": "vddyGZo6hdsR",
        "outputId": "2d6130ce-f63e-428c-a469-aacb2f3eafcc"
      },
      "source": [
        "fig, ax = plt.subplots(2, 2, figsize = (12, 6))\n",
        "\n",
        "sns.boxplot(y = 'totalyearlycompensation', data = data, ax = ax[0, 0])\n",
        "sns.boxplot(y = 'basesalary', data = data, ax = ax[0, 1])\n",
        "sns.boxplot(y = 'stockgrantvalue', data = data, ax = ax[1, 0])\n",
        "sns.boxplot(y = 'bonus', data = data, ax = ax[1, 1])"
      ],
      "execution_count": null,
      "outputs": [
        {
          "output_type": "execute_result",
          "data": {
            "text/plain": [
              "<matplotlib.axes._subplots.AxesSubplot at 0x7f37c749ec90>"
            ]
          },
          "metadata": {},
          "execution_count": 17
        },
        {
          "output_type": "display_data",
          "data": {
            "image/png": "[encoded data removed]",
            "text/plain": [
              "<Figure size 864x432 with 4 Axes>"
            ]
          },
          "metadata": {
            "needs_background": "light"
          }
        }
      ]
    },
    {
      "cell_type": "code",
      "metadata": {
        "colab": {
          "base_uri": "https://localhost:8080/"
        },
        "id": "TyE049QMjFnF",
        "outputId": "432d14e2-1f83-43be-fa57-de783f58e17a"
      },
      "source": [
        "fig, ax = plt.subplots(2, 2, figsize = (12, 6))\n",
        "\n",
        "sns.distplot(data['totalyearlycompensation'], ax = ax[0, 0])\n",
        "sns.distplot(data['basesalary'], ax = ax[0, 1])\n",
        "sns.distplot(data['stockgrantvalue'], ax = ax[1, 0])\n",
        "sns.distplot(data['bonus'], ax = ax[1, 1])"
      ],
      "execution_count": null,
      "outputs": [
        {
          "output_type": "stream",
          "name": "stderr",
          "text": [
            "/usr/local/lib/python3.7/dist-packages/seaborn/distributions.py:2619: FutureWarning: `distplot` is a deprecated function and will be removed in a future version. Please adapt your code to use either `displot` (a figure-level function with similar flexibility) or `histplot` (an axes-level function for histograms).\n",
            "  warnings.warn(msg, FutureWarning)\n",
            "/usr/local/lib/python3.7/dist-packages/seaborn/distributions.py:2619: FutureWarning: `distplot` is a deprecated function and will be removed in a future version. Please adapt your code to use either `displot` (a figure-level function with similar flexibility) or `histplot` (an axes-level function for histograms).\n",
            "  warnings.warn(msg, FutureWarning)\n",
            "/usr/local/lib/python3.7/dist-packages/seaborn/distributions.py:2619: FutureWarning: `distplot` is a deprecated function and will be removed in a future version. Please adapt your code to use either `displot` (a figure-level function with similar flexibility) or `histplot` (an axes-level function for histograms).\n",
            "  warnings.warn(msg, FutureWarning)\n",
            "/usr/local/lib/python3.7/dist-packages/seaborn/distributions.py:2619: FutureWarning: `distplot` is a deprecated function and will be removed in a future version. Please adapt your code to use either `displot` (a figure-level function with similar flexibility) or `histplot` (an axes-level function for histograms).\n",
            "  warnings.warn(msg, FutureWarning)\n"
          ]
        },
        {
          "output_type": "execute_result",
          "data": {
            "text/plain": [
              "<matplotlib.axes._subplots.AxesSubplot at 0x7f37c6e3b790>"
            ]
          },
          "metadata": {},
          "execution_count": 18
        },
        {
          "output_type": "display_data",
          "data": {
            "image/png": "[encoded data removed]",
            "text/plain": [
              "<Figure size 864x432 with 4 Axes>"
            ]
          },
          "metadata": {
            "needs_background": "light"
          }
        }
      ]
    },
    {
      "cell_type": "markdown",
      "metadata": {
        "id": "L6MyCcGhjhuc"
      },
      "source": [
        "- For the four numerical columns in the dataset, which are total yearly compensation, base salary, stock grant value, and bonus, they all contain many outliers. (according to the boxplots)\n",
        "- According to the histgrams, all those four columns are right-skewed and financial data are always right-skewed."
      ]
    },
    {
      "cell_type": "markdown",
      "metadata": {
        "id": "sDLhVOUnU43d"
      },
      "source": [
        "#PART 2: Descriptive Stats & Graphs"
      ]
    },
    {
      "cell_type": "markdown",
      "metadata": {
        "id": "7lelcJ5snxso"
      },
      "source": [
        "## 2.1 Descriptive Statistics"
      ]
    },
    {
      "cell_type": "code",
      "metadata": {
        "colab": {
          "base_uri": "https://localhost:8080/",
          "height": 320
        },
        "id": "Ug37eE7UUW4T",
        "outputId": "9de5cb1c-1fd0-4139-8b02-2559589843f2"
      },
      "source": [
        "data.describe()"
      ],
      "execution_count": null,
      "outputs": [
        {
          "output_type": "execute_result",
          "data": {
            "text/html": [
              "<div>\n",
              "<style scoped>\n",
              "    .dataframe tbody tr th:only-of-type {\n",
              "        vertical-align: middle;\n",
              "    }\n",
              "\n",
              "    .dataframe tbody tr th {\n",
              "        vertical-align: top;\n",
              "    }\n",
              "\n",
              "    .dataframe thead th {\n",
              "        text-align: right;\n",
              "    }\n",
              "</style>\n",
              "<table border=\"1\" class=\"dataframe\">\n",
              "  <thead>\n",
              "    <tr style=\"text-align: right;\">\n",
              "      <th></th>\n",
              "      <th>totalyearlycompensation</th>\n",
              "      <th>yearsofexperience</th>\n",
              "      <th>yearsatcompany</th>\n",
              "      <th>basesalary</th>\n",
              "      <th>stockgrantvalue</th>\n",
              "      <th>bonus</th>\n",
              "      <th>Masters_Degree</th>\n",
              "      <th>Bachelors_Degree</th>\n",
              "      <th>Doctorate_Degree</th>\n",
              "      <th>Highschool</th>\n",
              "      <th>Some_College</th>\n",
              "      <th>Race_Asian</th>\n",
              "      <th>Race_White</th>\n",
              "      <th>Race_Two_Or_More</th>\n",
              "      <th>Race_Black</th>\n",
              "      <th>Race_Hispanic</th>\n",
              "    </tr>\n",
              "  </thead>\n",
              "  <tbody>\n",
              "    <tr>\n",
              "      <th>count</th>\n",
              "      <td>2.770900e+04</td>\n",
              "      <td>27709.000000</td>\n",
              "      <td>27709.000000</td>\n",
              "      <td>27709.000000</td>\n",
              "      <td>27709.000000</td>\n",
              "      <td>27709.000000</td>\n",
              "      <td>27709.000000</td>\n",
              "      <td>27709.000000</td>\n",
              "      <td>27709.000000</td>\n",
              "      <td>27709.000000</td>\n",
              "      <td>27709.000000</td>\n",
              "      <td>27709.000000</td>\n",
              "      <td>27709.000000</td>\n",
              "      <td>27709.000000</td>\n",
              "      <td>27709.000000</td>\n",
              "      <td>27709.000000</td>\n",
              "    </tr>\n",
              "    <tr>\n",
              "      <th>mean</th>\n",
              "      <td>2.039842e+05</td>\n",
              "      <td>7.174041</td>\n",
              "      <td>2.708938</td>\n",
              "      <td>136786.892345</td>\n",
              "      <td>47550.783680</td>\n",
              "      <td>18988.956657</td>\n",
              "      <td>0.496806</td>\n",
              "      <td>0.427839</td>\n",
              "      <td>0.055036</td>\n",
              "      <td>0.011152</td>\n",
              "      <td>0.012559</td>\n",
              "      <td>0.411058</td>\n",
              "      <td>0.276300</td>\n",
              "      <td>0.027608</td>\n",
              "      <td>0.023891</td>\n",
              "      <td>0.038471</td>\n",
              "    </tr>\n",
              "    <tr>\n",
              "      <th>std</th>\n",
              "      <td>1.330428e+05</td>\n",
              "      <td>5.808810</td>\n",
              "      <td>3.295441</td>\n",
              "      <td>56792.455623</td>\n",
              "      <td>74475.159929</td>\n",
              "      <td>25322.560798</td>\n",
              "      <td>0.499999</td>\n",
              "      <td>0.494774</td>\n",
              "      <td>0.228055</td>\n",
              "      <td>0.105013</td>\n",
              "      <td>0.111363</td>\n",
              "      <td>0.492035</td>\n",
              "      <td>0.447175</td>\n",
              "      <td>0.163851</td>\n",
              "      <td>0.152713</td>\n",
              "      <td>0.192334</td>\n",
              "    </tr>\n",
              "    <tr>\n",
              "      <th>min</th>\n",
              "      <td>1.000000e+04</td>\n",
              "      <td>0.000000</td>\n",
              "      <td>0.000000</td>\n",
              "      <td>0.000000</td>\n",
              "      <td>0.000000</td>\n",
              "      <td>0.000000</td>\n",
              "      <td>0.000000</td>\n",
              "      <td>0.000000</td>\n",
              "      <td>0.000000</td>\n",
              "      <td>0.000000</td>\n",
              "      <td>0.000000</td>\n",
              "      <td>0.000000</td>\n",
              "      <td>0.000000</td>\n",
              "      <td>0.000000</td>\n",
              "      <td>0.000000</td>\n",
              "      <td>0.000000</td>\n",
              "    </tr>\n",
              "    <tr>\n",
              "      <th>25%</th>\n",
              "      <td>1.240000e+05</td>\n",
              "      <td>3.000000</td>\n",
              "      <td>0.000000</td>\n",
              "      <td>105000.000000</td>\n",
              "      <td>0.000000</td>\n",
              "      <td>3000.000000</td>\n",
              "      <td>0.000000</td>\n",
              "      <td>0.000000</td>\n",
              "      <td>0.000000</td>\n",
              "      <td>0.000000</td>\n",
              "      <td>0.000000</td>\n",
              "      <td>0.000000</td>\n",
              "      <td>0.000000</td>\n",
              "      <td>0.000000</td>\n",
              "      <td>0.000000</td>\n",
              "      <td>0.000000</td>\n",
              "    </tr>\n",
              "    <tr>\n",
              "      <th>50%</th>\n",
              "      <td>1.800000e+05</td>\n",
              "      <td>6.000000</td>\n",
              "      <td>2.000000</td>\n",
              "      <td>138000.000000</td>\n",
              "      <td>22000.000000</td>\n",
              "      <td>14000.000000</td>\n",
              "      <td>0.000000</td>\n",
              "      <td>0.000000</td>\n",
              "      <td>0.000000</td>\n",
              "      <td>0.000000</td>\n",
              "      <td>0.000000</td>\n",
              "      <td>0.000000</td>\n",
              "      <td>0.000000</td>\n",
              "      <td>0.000000</td>\n",
              "      <td>0.000000</td>\n",
              "      <td>0.000000</td>\n",
              "    </tr>\n",
              "    <tr>\n",
              "      <th>75%</th>\n",
              "      <td>2.500000e+05</td>\n",
              "      <td>10.000000</td>\n",
              "      <td>4.000000</td>\n",
              "      <td>165000.000000</td>\n",
              "      <td>60000.000000</td>\n",
              "      <td>26000.000000</td>\n",
              "      <td>1.000000</td>\n",
              "      <td>1.000000</td>\n",
              "      <td>0.000000</td>\n",
              "      <td>0.000000</td>\n",
              "      <td>0.000000</td>\n",
              "      <td>1.000000</td>\n",
              "      <td>1.000000</td>\n",
              "      <td>0.000000</td>\n",
              "      <td>0.000000</td>\n",
              "      <td>0.000000</td>\n",
              "    </tr>\n",
              "    <tr>\n",
              "      <th>max</th>\n",
              "      <td>4.980000e+06</td>\n",
              "      <td>45.000000</td>\n",
              "      <td>40.000000</td>\n",
              "      <td>900000.000000</td>\n",
              "      <td>1000000.000000</td>\n",
              "      <td>900000.000000</td>\n",
              "      <td>1.000000</td>\n",
              "      <td>1.000000</td>\n",
              "      <td>1.000000</td>\n",
              "      <td>1.000000</td>\n",
              "      <td>1.000000</td>\n",
              "      <td>1.000000</td>\n",
              "      <td>1.000000</td>\n",
              "      <td>1.000000</td>\n",
              "      <td>1.000000</td>\n",
              "      <td>1.000000</td>\n",
              "    </tr>\n",
              "  </tbody>\n",
              "</table>\n",
              "</div>"
            ],
            "text/plain": [
              "       totalyearlycompensation  yearsofexperience  ...    Race_Black  Race_Hispanic\n",
              "count             2.770900e+04       27709.000000  ...  27709.000000   27709.000000\n",
              "mean              2.039842e+05           7.174041  ...      0.023891       0.038471\n",
              "std               1.330428e+05           5.808810  ...      0.152713       0.192334\n",
              "min               1.000000e+04           0.000000  ...      0.000000       0.000000\n",
              "25%               1.240000e+05           3.000000  ...      0.000000       0.000000\n",
              "50%               1.800000e+05           6.000000  ...      0.000000       0.000000\n",
              "75%               2.500000e+05          10.000000  ...      0.000000       0.000000\n",
              "max               4.980000e+06          45.000000  ...      1.000000       1.000000\n",
              "\n",
              "[8 rows x 16 columns]"
            ]
          },
          "metadata": {},
          "execution_count": 19
        }
      ]
    },
    {
      "cell_type": "markdown",
      "metadata": {
        "id": "leMrE967n1Tj"
      },
      "source": [
        "## 2.2 Graphs"
      ]
    },
    {
      "cell_type": "code",
      "metadata": {
        "colab": {
          "base_uri": "https://localhost:8080/",
          "height": 313
        },
        "id": "71EpB4rIpT_6",
        "outputId": "51d66b20-338e-4387-a98c-c0dbeaa7fb23"
      },
      "source": [
        "data.head()"
      ],
      "execution_count": null,
      "outputs": [
        {
          "output_type": "execute_result",
          "data": {
            "text/html": [
              "<div>\n",
              "<style scoped>\n",
              "    .dataframe tbody tr th:only-of-type {\n",
              "        vertical-align: middle;\n",
              "    }\n",
              "\n",
              "    .dataframe tbody tr th {\n",
              "        vertical-align: top;\n",
              "    }\n",
              "\n",
              "    .dataframe thead th {\n",
              "        text-align: right;\n",
              "    }\n",
              "</style>\n",
              "<table border=\"1\" class=\"dataframe\">\n",
              "  <thead>\n",
              "    <tr style=\"text-align: right;\">\n",
              "      <th></th>\n",
              "      <th>company</th>\n",
              "      <th>level</th>\n",
              "      <th>title</th>\n",
              "      <th>totalyearlycompensation</th>\n",
              "      <th>location</th>\n",
              "      <th>yearsofexperience</th>\n",
              "      <th>yearsatcompany</th>\n",
              "      <th>basesalary</th>\n",
              "      <th>stockgrantvalue</th>\n",
              "      <th>bonus</th>\n",
              "      <th>gender</th>\n",
              "      <th>Masters_Degree</th>\n",
              "      <th>Bachelors_Degree</th>\n",
              "      <th>Doctorate_Degree</th>\n",
              "      <th>Highschool</th>\n",
              "      <th>Some_College</th>\n",
              "      <th>Race_Asian</th>\n",
              "      <th>Race_White</th>\n",
              "      <th>Race_Two_Or_More</th>\n",
              "      <th>Race_Black</th>\n",
              "      <th>Race_Hispanic</th>\n",
              "      <th>Education</th>\n",
              "    </tr>\n",
              "  </thead>\n",
              "  <tbody>\n",
              "    <tr>\n",
              "      <th>3427</th>\n",
              "      <td>Capital One</td>\n",
              "      <td>Senior Associate</td>\n",
              "      <td>Data Scientist</td>\n",
              "      <td>125000</td>\n",
              "      <td>Washington, DC</td>\n",
              "      <td>1.0</td>\n",
              "      <td>0.0</td>\n",
              "      <td>121000.0</td>\n",
              "      <td>0.0</td>\n",
              "      <td>4000.0</td>\n",
              "      <td>Male</td>\n",
              "      <td>0</td>\n",
              "      <td>0</td>\n",
              "      <td>1</td>\n",
              "      <td>0</td>\n",
              "      <td>0</td>\n",
              "      <td>0</td>\n",
              "      <td>0</td>\n",
              "      <td>0</td>\n",
              "      <td>0</td>\n",
              "      <td>0</td>\n",
              "      <td>PhD</td>\n",
              "    </tr>\n",
              "    <tr>\n",
              "      <th>5037</th>\n",
              "      <td>Bloomberg</td>\n",
              "      <td>Software Engineer</td>\n",
              "      <td>Software Engineer</td>\n",
              "      <td>170000</td>\n",
              "      <td>New York, NY</td>\n",
              "      <td>0.0</td>\n",
              "      <td>0.0</td>\n",
              "      <td>142000.0</td>\n",
              "      <td>0.0</td>\n",
              "      <td>18000.0</td>\n",
              "      <td>Male</td>\n",
              "      <td>1</td>\n",
              "      <td>0</td>\n",
              "      <td>0</td>\n",
              "      <td>0</td>\n",
              "      <td>0</td>\n",
              "      <td>0</td>\n",
              "      <td>0</td>\n",
              "      <td>0</td>\n",
              "      <td>0</td>\n",
              "      <td>0</td>\n",
              "      <td>Master's Degree</td>\n",
              "    </tr>\n",
              "    <tr>\n",
              "      <th>5392</th>\n",
              "      <td>Amazon</td>\n",
              "      <td>L5</td>\n",
              "      <td>Data Scientist</td>\n",
              "      <td>332000</td>\n",
              "      <td>Palo Alto, CA</td>\n",
              "      <td>1.0</td>\n",
              "      <td>0.0</td>\n",
              "      <td>185000.0</td>\n",
              "      <td>17000.0</td>\n",
              "      <td>130000.0</td>\n",
              "      <td>Male</td>\n",
              "      <td>0</td>\n",
              "      <td>0</td>\n",
              "      <td>1</td>\n",
              "      <td>0</td>\n",
              "      <td>0</td>\n",
              "      <td>0</td>\n",
              "      <td>0</td>\n",
              "      <td>0</td>\n",
              "      <td>0</td>\n",
              "      <td>0</td>\n",
              "      <td>PhD</td>\n",
              "    </tr>\n",
              "    <tr>\n",
              "      <th>6055</th>\n",
              "      <td>Apple</td>\n",
              "      <td>ICT3</td>\n",
              "      <td>Software Engineer</td>\n",
              "      <td>240000</td>\n",
              "      <td>Cupertino, CA</td>\n",
              "      <td>3.0</td>\n",
              "      <td>3.0</td>\n",
              "      <td>150000.0</td>\n",
              "      <td>75000.0</td>\n",
              "      <td>15000.0</td>\n",
              "      <td>Female</td>\n",
              "      <td>0</td>\n",
              "      <td>0</td>\n",
              "      <td>1</td>\n",
              "      <td>0</td>\n",
              "      <td>0</td>\n",
              "      <td>0</td>\n",
              "      <td>0</td>\n",
              "      <td>0</td>\n",
              "      <td>0</td>\n",
              "      <td>0</td>\n",
              "      <td>PhD</td>\n",
              "    </tr>\n",
              "    <tr>\n",
              "      <th>7218</th>\n",
              "      <td>Synopsys</td>\n",
              "      <td>100</td>\n",
              "      <td>Software Engineer</td>\n",
              "      <td>310000</td>\n",
              "      <td>Mountain View, CA</td>\n",
              "      <td>25.0</td>\n",
              "      <td>9.0</td>\n",
              "      <td>210000.0</td>\n",
              "      <td>40000.0</td>\n",
              "      <td>60000.0</td>\n",
              "      <td>Male</td>\n",
              "      <td>0</td>\n",
              "      <td>0</td>\n",
              "      <td>1</td>\n",
              "      <td>0</td>\n",
              "      <td>0</td>\n",
              "      <td>0</td>\n",
              "      <td>0</td>\n",
              "      <td>0</td>\n",
              "      <td>0</td>\n",
              "      <td>0</td>\n",
              "      <td>PhD</td>\n",
              "    </tr>\n",
              "  </tbody>\n",
              "</table>\n",
              "</div>"
            ],
            "text/plain": [
              "          company              level  ... Race_Hispanic        Education\n",
              "3427  Capital One   Senior Associate  ...             0              PhD\n",
              "5037    Bloomberg  Software Engineer  ...             0  Master's Degree\n",
              "5392       Amazon                 L5  ...             0              PhD\n",
              "6055        Apple               ICT3  ...             0              PhD\n",
              "7218     Synopsys                100  ...             0              PhD\n",
              "\n",
              "[5 rows x 22 columns]"
            ]
          },
          "metadata": {},
          "execution_count": 20
        }
      ]
    },
    {
      "cell_type": "code",
      "metadata": {
        "id": "cv_bCdpwpzkp",
        "colab": {
          "base_uri": "https://localhost:8080/",
          "height": 312
        },
        "outputId": "21efe846-22b7-4c76-d949-c56bffdd2726"
      },
      "source": [
        "sns.boxplot(x = 'totalyearlycompensation', data = data)\n",
        "plt.title('Total Yearly Compensation',fontsize = 12, fontweight = 'bold')"
      ],
      "execution_count": null,
      "outputs": [
        {
          "output_type": "execute_result",
          "data": {
            "text/plain": [
              "Text(0.5, 1.0, 'Total Yearly Compensation')"
            ]
          },
          "metadata": {},
          "execution_count": 47
        },
        {
          "output_type": "display_data",
          "data": {
            "image/png": "[encoded data removed]",
            "text/plain": [
              "<Figure size 432x288 with 1 Axes>"
            ]
          },
          "metadata": {
            "needs_background": "light"
          }
        }
      ]
    },
    {
      "cell_type": "code",
      "metadata": {
        "colab": {
          "base_uri": "https://localhost:8080/",
          "height": 312
        },
        "id": "iNE4vFlSqU61",
        "outputId": "cfc5801f-ff5b-41dc-b510-ca5f804f69ee"
      },
      "source": [
        "sns.boxplot(x = 'yearsofexperience', data = data)\n",
        "plt.title('Years of Experience',fontsize = 12, fontweight = 'bold')"
      ],
      "execution_count": null,
      "outputs": [
        {
          "output_type": "execute_result",
          "data": {
            "text/plain": [
              "Text(0.5, 1.0, 'Years of Experience')"
            ]
          },
          "metadata": {},
          "execution_count": 25
        },
        {
          "output_type": "display_data",
          "data": {
            "image/png": "[encoded data removed]",
            "text/plain": [
              "<Figure size 432x288 with 1 Axes>"
            ]
          },
          "metadata": {
            "needs_background": "light"
          }
        }
      ]
    },
    {
      "cell_type": "code",
      "metadata": {
        "colab": {
          "base_uri": "https://localhost:8080/",
          "height": 312
        },
        "id": "rQDK23RPqeju",
        "outputId": "1716e227-0c7c-49a5-84c9-cd61866f9df8"
      },
      "source": [
        "sns.boxplot(x = 'yearsatcompany', data = data)\n",
        "plt.title('Years At Company',fontsize = 12, fontweight = 'bold')"
      ],
      "execution_count": null,
      "outputs": [
        {
          "output_type": "execute_result",
          "data": {
            "text/plain": [
              "Text(0.5, 1.0, 'Years At Company')"
            ]
          },
          "metadata": {},
          "execution_count": 27
        },
        {
          "output_type": "display_data",
          "data": {
            "image/png": "[encoded data removed]",
            "text/plain": [
              "<Figure size 432x288 with 1 Axes>"
            ]
          },
          "metadata": {
            "needs_background": "light"
          }
        }
      ]
    },
    {
      "cell_type": "code",
      "metadata": {
        "id": "Zo9N8TGRqepT",
        "colab": {
          "base_uri": "https://localhost:8080/",
          "height": 312
        },
        "outputId": "0bc42f3b-65d0-4115-d4ee-151162fc25cb"
      },
      "source": [
        "sns.boxplot(x = 'basesalary', data = data)\n",
        "plt.title('Base Salary',fontsize = 12, fontweight = 'bold')"
      ],
      "execution_count": null,
      "outputs": [
        {
          "output_type": "execute_result",
          "data": {
            "text/plain": [
              "Text(0.5, 1.0, 'Base Salary')"
            ]
          },
          "metadata": {},
          "execution_count": 28
        },
        {
          "output_type": "display_data",
          "data": {
            "image/png": "[encoded data removed]",
            "text/plain": [
              "<Figure size 432x288 with 1 Axes>"
            ]
          },
          "metadata": {
            "needs_background": "light"
          }
        }
      ]
    },
    {
      "cell_type": "code",
      "metadata": {
        "id": "tKChBfuJqer-",
        "colab": {
          "base_uri": "https://localhost:8080/",
          "height": 312
        },
        "outputId": "a1fa2d2b-c2e5-41ed-99ee-ad1bd68a598c"
      },
      "source": [
        "sns.boxplot(x = 'stockgrantvalue', data = data)\n",
        "plt.title('Stock Grant Value',fontsize = 12, fontweight = 'bold')"
      ],
      "execution_count": null,
      "outputs": [
        {
          "output_type": "execute_result",
          "data": {
            "text/plain": [
              "Text(0.5, 1.0, 'Stock Grant Value')"
            ]
          },
          "metadata": {},
          "execution_count": 29
        },
        {
          "output_type": "display_data",
          "data": {
            "image/png": "[encoded data removed]",
            "text/plain": [
              "<Figure size 432x288 with 1 Axes>"
            ]
          },
          "metadata": {
            "needs_background": "light"
          }
        }
      ]
    },
    {
      "cell_type": "code",
      "metadata": {
        "id": "LuJohuxYqetn",
        "colab": {
          "base_uri": "https://localhost:8080/",
          "height": 312
        },
        "outputId": "94dee385-5242-46e0-f2e9-8475fd763457"
      },
      "source": [
        "sns.boxplot(x = 'bonus', data = data)\n",
        "plt.title('Bonus',fontsize = 12, fontweight = 'bold')"
      ],
      "execution_count": null,
      "outputs": [
        {
          "output_type": "execute_result",
          "data": {
            "text/plain": [
              "Text(0.5, 1.0, 'Bonus')"
            ]
          },
          "metadata": {},
          "execution_count": 30
        },
        {
          "output_type": "display_data",
          "data": {
            "image/png": "[encoded data removed]",
            "text/plain": [
              "<Figure size 432x288 with 1 Axes>"
            ]
          },
          "metadata": {
            "needs_background": "light"
          }
        }
      ]
    },
    {
      "cell_type": "code",
      "metadata": {
        "colab": {
          "base_uri": "https://localhost:8080/",
          "height": 312
        },
        "id": "e23z4pZU8ES8",
        "outputId": "31abf0cf-4ca0-4f6a-8d20-c3c83053e51d"
      },
      "source": [
        "sns.histplot(x = 'Race', data = df)\n",
        "plt.title('Races',fontsize = 12, fontweight = 'bold')"
      ],
      "execution_count": null,
      "outputs": [
        {
          "output_type": "execute_result",
          "data": {
            "text/plain": [
              "Text(0.5, 1.0, 'Races')"
            ]
          },
          "metadata": {},
          "execution_count": 31
        },
        {
          "output_type": "display_data",
          "data": {
            "image/png": "[encoded data removed]",
            "text/plain": [
              "<Figure size 432x288 with 1 Axes>"
            ]
          },
          "metadata": {
            "needs_background": "light"
          }
        }
      ]
    },
    {
      "cell_type": "code",
      "metadata": {
        "colab": {
          "base_uri": "https://localhost:8080/"
        },
        "id": "CN30kXbatZ7N",
        "outputId": "2e09c92b-5e1c-4fd3-8757-551dfa69ae1f"
      },
      "source": [
        "data['location'].value_counts()"
      ],
      "execution_count": null,
      "outputs": [
        {
          "output_type": "execute_result",
          "data": {
            "text/plain": [
              "Seattle, WA                3344\n",
              "San Francisco, CA          2403\n",
              "New York, NY               1986\n",
              "Redmond, WA                1020\n",
              "San Jose, CA                907\n",
              "                           ... \n",
              "Boone, NC                     1\n",
              "Canberra, CT, Australia       1\n",
              "Hillsboro, OH                 1\n",
              "Columbia, SC                  1\n",
              "Chu-nan, TW, Taiwan           1\n",
              "Name: location, Length: 825, dtype: int64"
            ]
          },
          "metadata": {},
          "execution_count": 26
        }
      ]
    },
    {
      "cell_type": "code",
      "metadata": {
        "colab": {
          "base_uri": "https://localhost:8080/",
          "height": 474
        },
        "id": "6G8HC7jmJ5nf",
        "outputId": "dcf82465-5572-4b49-ec5b-f1c7f187def0"
      },
      "source": [
        "company_name = data['company'].value_counts()[0:10].reset_index()\n",
        "company_name.columns = ['Company', 'Count']\n",
        "sns.catplot(x = 'Count', y = 'Company', kind = 'bar', data = company_name, height=6, aspect=3)\n",
        "plt.title('Company Name',fontsize = 12, fontweight = 'bold')"
      ],
      "execution_count": null,
      "outputs": [
        {
          "output_type": "execute_result",
          "data": {
            "text/plain": [
              "Text(0.5, 1.0, 'Company Name')"
            ]
          },
          "metadata": {},
          "execution_count": 77
        },
        {
          "output_type": "display_data",
          "data": {
            "image/png": "[encoded data removed]",
            "text/plain": [
              "<Figure size 1296x432 with 1 Axes>"
            ]
          },
          "metadata": {
            "needs_background": "light"
          }
        }
      ]
    },
    {
      "cell_type": "code",
      "metadata": {
        "colab": {
          "base_uri": "https://localhost:8080/",
          "height": 557
        },
        "id": "xpdJM7SmKGva",
        "outputId": "bbfcd79e-cf5b-4193-a1e1-5ec9fd6b3b7f"
      },
      "source": [
        "data_company = data[(data['company'] == 'Amazon') | (data['company'] == 'Microsoft') | (data['company'] == 'Google')\n",
        "       | (data['company'] == 'Facebook') | (data['company'] == 'Apple') | (data['company'] == 'Oracle') | (data['company'] == 'Intel') \\\n",
        "       | (data['company'] == 'IBM') | (data['company'] == 'Cisco') | (data['company'] == 'Salesforce')]\n",
        "\n",
        "var = 'company'\n",
        "f, ax = plt.subplots(figsize=(20, 8))\n",
        "plt.xticks(rotation=60)\n",
        "plt.title('Total Yearly Compensation Based On Company',fontsize = 12, fontweight = 'bold', pad = 10)\n",
        "plt.gca().spines['top'].set_visible(False)\n",
        "plt.gca().spines['right'].set_visible(False)\n",
        "fig = sns.boxplot(x=var, y=\"totalyearlycompensation\", data=data_company, showfliers = False)\n",
        "fig.axis(ymin=0, ymax=900000);"
      ],
      "execution_count": null,
      "outputs": [
        {
          "output_type": "display_data",
          "data": {
            "image/png": "[encoded data removed]",
            "text/plain": [
              "<Figure size 1440x576 with 1 Axes>"
            ]
          },
          "metadata": {
            "needs_background": "light"
          }
        }
      ]
    },
    {
      "cell_type": "code",
      "metadata": {
        "colab": {
          "base_uri": "https://localhost:8080/",
          "height": 474
        },
        "id": "uSpf4-UIpD1I",
        "outputId": "2589f3c8-48c1-4cbf-fc88-e0e9bfe4fbbc"
      },
      "source": [
        "titles = data['title'].value_counts().reset_index()\n",
        "titles.columns = ['Title', 'Count']\n",
        "sns.catplot(x = 'Count', y = 'Title', kind = 'bar', data = titles, height=6, aspect=3)\n",
        "plt.title('Job Title',fontsize = 12, fontweight = 'bold')"
      ],
      "execution_count": null,
      "outputs": [
        {
          "output_type": "execute_result",
          "data": {
            "text/plain": [
              "Text(0.5, 1.0, 'Job Title')"
            ]
          },
          "metadata": {},
          "execution_count": 27
        },
        {
          "output_type": "display_data",
          "data": {
            "image/png": "[encoded data removed]",
            "text/plain": [
              "<Figure size 1296x432 with 1 Axes>"
            ]
          },
          "metadata": {
            "needs_background": "light"
          }
        }
      ]
    },
    {
      "cell_type": "code",
      "metadata": {
        "colab": {
          "base_uri": "https://localhost:8080/",
          "height": 645
        },
        "id": "3LaF1ctaIPLf",
        "outputId": "c0cbe885-4eae-46b9-c572-a3befc3066ba"
      },
      "source": [
        "var = 'title'\n",
        "f, ax = plt.subplots(figsize=(20, 8))\n",
        "plt.xticks(rotation=60)\n",
        "plt.title('Total Yearly Compensation Based On Job title',fontsize = 12, fontweight = 'bold', pad = 10)\n",
        "plt.gca().spines['top'].set_visible(False)\n",
        "plt.gca().spines['right'].set_visible(False)\n",
        "fig = sns.boxplot(x=var, y=\"totalyearlycompensation\", data=data, showfliers = False)\n",
        "fig.axis(ymin=0, ymax=900000);"
      ],
      "execution_count": null,
      "outputs": [
        {
          "output_type": "display_data",
          "data": {
            "image/png": "[encoded data removed]",
            "text/plain": [
              "<Figure size 1440x576 with 1 Axes>"
            ]
          },
          "metadata": {
            "needs_background": "light"
          }
        }
      ]
    },
    {
      "cell_type": "code",
      "metadata": {
        "colab": {
          "base_uri": "https://localhost:8080/",
          "height": 474
        },
        "id": "fNEUHP_4pqJT",
        "outputId": "a7c50cd1-c818-401a-8ec5-affbb9b93b67"
      },
      "source": [
        "locations = data['location'].value_counts()[0:10].reset_index()\n",
        "locations.columns = ['Location', 'Count']\n",
        "sns.catplot(x = 'Count', y = 'Location', kind = 'bar', data = locations, height=6, aspect=3)\n",
        "plt.title('Location',fontsize = 12, fontweight = 'bold')"
      ],
      "execution_count": null,
      "outputs": [
        {
          "output_type": "execute_result",
          "data": {
            "text/plain": [
              "Text(0.5, 1.0, 'Location')"
            ]
          },
          "metadata": {},
          "execution_count": 40
        },
        {
          "output_type": "display_data",
          "data": {
            "image/png": "[encoded data removed]",
            "text/plain": [
              "<Figure size 1296x432 with 1 Axes>"
            ]
          },
          "metadata": {
            "needs_background": "light"
          }
        }
      ]
    },
    {
      "cell_type": "code",
      "metadata": {
        "colab": {
          "base_uri": "https://localhost:8080/",
          "height": 616
        },
        "id": "U62rWvQAJd-B",
        "outputId": "6d8cdae4-2b41-46fe-8382-cd4f82681726"
      },
      "source": [
        "data_company = data[(data['location'] == 'Seattle, WA') | (data['location'] == 'San Franciso, CA') | (data['location'] == 'New York, NY')\n",
        "       | (data['location'] == 'Redmond, WA') | (data['location'] == 'San Jose, CA') | (data['location'] == 'Sunnyvale, CA') | (data['location'] == 'Mountain View, CA') \\\n",
        "       | (data['location'] == 'Austin, TX') | (data['location'] == 'Bangalore, KA, India') | (data['location'] == 'Menlo Park, CA')]\n",
        "\n",
        "var = 'location'\n",
        "f, ax = plt.subplots(figsize=(20, 8))\n",
        "plt.xticks(rotation=60)\n",
        "plt.title('Total Yearly Compensation Based On Job Locations',fontsize = 12, fontweight = 'bold', pad = 10)\n",
        "plt.gca().spines['top'].set_visible(False)\n",
        "plt.gca().spines['right'].set_visible(False)\n",
        "fig = sns.boxplot(x=var, y='totalyearlycompensation', data=data_company, showfliers = False)\n",
        "fig.axis(ymin=0, ymax=900000)"
      ],
      "execution_count": null,
      "outputs": [
        {
          "output_type": "execute_result",
          "data": {
            "text/plain": [
              "(-0.5, 8.5, 0.0, 900000.0)"
            ]
          },
          "metadata": {},
          "execution_count": 91
        },
        {
          "output_type": "display_data",
          "data": {
            "image/png": "[encoded data removed]",
            "text/plain": [
              "<Figure size 1440x576 with 1 Axes>"
            ]
          },
          "metadata": {
            "needs_background": "light"
          }
        }
      ]
    },
    {
      "cell_type": "code",
      "metadata": {
        "colab": {
          "base_uri": "https://localhost:8080/",
          "height": 474
        },
        "id": "Pht12dQb410p",
        "outputId": "c7e59f9f-7705-4da2-bb1c-4d27c20e04d3"
      },
      "source": [
        "education_levels = data['Education'].value_counts()[0:10].reset_index()\n",
        "education_levels.columns = ['Education', 'Count']\n",
        "sns.catplot(x = 'Count', y = 'Education', kind = 'bar', data = education_levels, height=6, aspect=3)\n",
        "plt.title('Education Levels',fontsize = 12, fontweight = 'bold')\n"
      ],
      "execution_count": null,
      "outputs": [
        {
          "output_type": "execute_result",
          "data": {
            "text/plain": [
              "Text(0.5, 1.0, 'Education Levels')"
            ]
          },
          "metadata": {},
          "execution_count": 41
        },
        {
          "output_type": "display_data",
          "data": {
            "image/png": "[encoded data removed]",
            "text/plain": [
              "<Figure size 1296x432 with 1 Axes>"
            ]
          },
          "metadata": {
            "needs_background": "light"
          }
        }
      ]
    },
    {
      "cell_type": "code",
      "metadata": {
        "colab": {
          "base_uri": "https://localhost:8080/",
          "height": 591
        },
        "id": "WBooIq983skm",
        "outputId": "06c739bd-38f9-459a-c9f2-9d28300cd571"
      },
      "source": [
        "var = 'Education'\n",
        "f, ax = plt.subplots(figsize=(20, 8))\n",
        "plt.xticks(rotation=60)\n",
        "plt.title('Total Yearly Compensation Based On Education',fontsize = 12, fontweight = 'bold', pad = 10)\n",
        "plt.gca().spines['top'].set_visible(False)\n",
        "plt.gca().spines['right'].set_visible(False)\n",
        "fig = sns.boxplot(x=var, y=\"totalyearlycompensation\", data=data, showfliers = False)\n",
        "fig.axis(ymin=0, ymax=900000);"
      ],
      "execution_count": null,
      "outputs": [
        {
          "output_type": "display_data",
          "data": {
            "image/png": "[encoded data removed]",
            "text/plain": [
              "<Figure size 1440x576 with 1 Axes>"
            ]
          },
          "metadata": {
            "needs_background": "light"
          }
        }
      ]
    },
    {
      "cell_type": "markdown",
      "metadata": {
        "id": "WTdGdLN4UgpQ"
      },
      "source": [
        "#PART 3: Regression Analysis"
      ]
    },
    {
      "cell_type": "markdown",
      "metadata": {
        "id": "YsOXT1ZHUVTv"
      },
      "source": [
        "##3.1 Scope of Investigation"
      ]
    },
    {
      "cell_type": "code",
      "metadata": {
        "colab": {
          "base_uri": "https://localhost:8080/",
          "height": 565
        },
        "id": "B5MwIeHFbjWp",
        "outputId": "5f7bb1b6-3d8f-4f54-ffea-e40cffaada20"
      },
      "source": [
        "data.corr()"
      ],
      "execution_count": null,
      "outputs": [
        {
          "output_type": "execute_result",
          "data": {
            "text/html": [
              "<div>\n",
              "<style scoped>\n",
              "    .dataframe tbody tr th:only-of-type {\n",
              "        vertical-align: middle;\n",
              "    }\n",
              "\n",
              "    .dataframe tbody tr th {\n",
              "        vertical-align: top;\n",
              "    }\n",
              "\n",
              "    .dataframe thead th {\n",
              "        text-align: right;\n",
              "    }\n",
              "</style>\n",
              "<table border=\"1\" class=\"dataframe\">\n",
              "  <thead>\n",
              "    <tr style=\"text-align: right;\">\n",
              "      <th></th>\n",
              "      <th>totalyearlycompensation</th>\n",
              "      <th>yearsofexperience</th>\n",
              "      <th>yearsatcompany</th>\n",
              "      <th>basesalary</th>\n",
              "      <th>stockgrantvalue</th>\n",
              "      <th>bonus</th>\n",
              "      <th>Masters_Degree</th>\n",
              "      <th>Bachelors_Degree</th>\n",
              "      <th>Doctorate_Degree</th>\n",
              "      <th>Highschool</th>\n",
              "      <th>Some_College</th>\n",
              "      <th>Race_Asian</th>\n",
              "      <th>Race_White</th>\n",
              "      <th>Race_Two_Or_More</th>\n",
              "      <th>Race_Black</th>\n",
              "      <th>Race_Hispanic</th>\n",
              "    </tr>\n",
              "  </thead>\n",
              "  <tbody>\n",
              "    <tr>\n",
              "      <th>totalyearlycompensation</th>\n",
              "      <td>1.000000</td>\n",
              "      <td>0.401800</td>\n",
              "      <td>0.156748</td>\n",
              "      <td>0.787722</td>\n",
              "      <td>0.809306</td>\n",
              "      <td>0.531189</td>\n",
              "      <td>0.108452</td>\n",
              "      <td>-0.172704</td>\n",
              "      <td>0.153637</td>\n",
              "      <td>-0.015978</td>\n",
              "      <td>0.006196</td>\n",
              "      <td>-0.068055</td>\n",
              "      <td>0.011424</td>\n",
              "      <td>0.003220</td>\n",
              "      <td>-0.027017</td>\n",
              "      <td>-0.017907</td>\n",
              "    </tr>\n",
              "    <tr>\n",
              "      <th>yearsofexperience</th>\n",
              "      <td>0.401800</td>\n",
              "      <td>1.000000</td>\n",
              "      <td>0.527666</td>\n",
              "      <td>0.410647</td>\n",
              "      <td>0.291615</td>\n",
              "      <td>0.279652</td>\n",
              "      <td>0.100014</td>\n",
              "      <td>-0.112267</td>\n",
              "      <td>-0.007830</td>\n",
              "      <td>0.016047</td>\n",
              "      <td>0.059776</td>\n",
              "      <td>-0.089103</td>\n",
              "      <td>0.102546</td>\n",
              "      <td>-0.020140</td>\n",
              "      <td>-0.033330</td>\n",
              "      <td>-0.000825</td>\n",
              "    </tr>\n",
              "    <tr>\n",
              "      <th>yearsatcompany</th>\n",
              "      <td>0.156748</td>\n",
              "      <td>0.527666</td>\n",
              "      <td>1.000000</td>\n",
              "      <td>0.172806</td>\n",
              "      <td>0.098398</td>\n",
              "      <td>0.125802</td>\n",
              "      <td>0.044749</td>\n",
              "      <td>-0.045386</td>\n",
              "      <td>0.001468</td>\n",
              "      <td>-0.010227</td>\n",
              "      <td>0.009666</td>\n",
              "      <td>-0.046248</td>\n",
              "      <td>0.074241</td>\n",
              "      <td>-0.020810</td>\n",
              "      <td>-0.040828</td>\n",
              "      <td>-0.008469</td>\n",
              "    </tr>\n",
              "    <tr>\n",
              "      <th>basesalary</th>\n",
              "      <td>0.787722</td>\n",
              "      <td>0.410647</td>\n",
              "      <td>0.172806</td>\n",
              "      <td>1.000000</td>\n",
              "      <td>0.478092</td>\n",
              "      <td>0.398535</td>\n",
              "      <td>0.134904</td>\n",
              "      <td>-0.199604</td>\n",
              "      <td>0.150105</td>\n",
              "      <td>-0.016588</td>\n",
              "      <td>0.011265</td>\n",
              "      <td>-0.104162</td>\n",
              "      <td>0.034390</td>\n",
              "      <td>0.005131</td>\n",
              "      <td>-0.016433</td>\n",
              "      <td>-0.011372</td>\n",
              "    </tr>\n",
              "    <tr>\n",
              "      <th>stockgrantvalue</th>\n",
              "      <td>0.809306</td>\n",
              "      <td>0.291615</td>\n",
              "      <td>0.098398</td>\n",
              "      <td>0.478092</td>\n",
              "      <td>1.000000</td>\n",
              "      <td>0.255466</td>\n",
              "      <td>0.062244</td>\n",
              "      <td>-0.114782</td>\n",
              "      <td>0.127712</td>\n",
              "      <td>-0.011238</td>\n",
              "      <td>0.003805</td>\n",
              "      <td>-0.031835</td>\n",
              "      <td>-0.003930</td>\n",
              "      <td>0.001016</td>\n",
              "      <td>-0.038932</td>\n",
              "      <td>-0.019776</td>\n",
              "    </tr>\n",
              "    <tr>\n",
              "      <th>bonus</th>\n",
              "      <td>0.531189</td>\n",
              "      <td>0.279652</td>\n",
              "      <td>0.125802</td>\n",
              "      <td>0.398535</td>\n",
              "      <td>0.255466</td>\n",
              "      <td>1.000000</td>\n",
              "      <td>0.065812</td>\n",
              "      <td>-0.107913</td>\n",
              "      <td>0.101898</td>\n",
              "      <td>-0.010825</td>\n",
              "      <td>-0.000642</td>\n",
              "      <td>-0.032912</td>\n",
              "      <td>-0.003874</td>\n",
              "      <td>0.007058</td>\n",
              "      <td>-0.003796</td>\n",
              "      <td>-0.004685</td>\n",
              "    </tr>\n",
              "    <tr>\n",
              "      <th>Masters_Degree</th>\n",
              "      <td>0.108452</td>\n",
              "      <td>0.100014</td>\n",
              "      <td>0.044749</td>\n",
              "      <td>0.134904</td>\n",
              "      <td>0.062244</td>\n",
              "      <td>0.065812</td>\n",
              "      <td>1.000000</td>\n",
              "      <td>-0.858642</td>\n",
              "      <td>-0.211311</td>\n",
              "      <td>-0.105519</td>\n",
              "      <td>-0.112060</td>\n",
              "      <td>0.058736</td>\n",
              "      <td>-0.244635</td>\n",
              "      <td>-0.066105</td>\n",
              "      <td>-0.057611</td>\n",
              "      <td>-0.092545</td>\n",
              "    </tr>\n",
              "    <tr>\n",
              "      <th>Bachelors_Degree</th>\n",
              "      <td>-0.172704</td>\n",
              "      <td>-0.112267</td>\n",
              "      <td>-0.045386</td>\n",
              "      <td>-0.199604</td>\n",
              "      <td>-0.114782</td>\n",
              "      <td>-0.107913</td>\n",
              "      <td>-0.858642</td>\n",
              "      <td>1.000000</td>\n",
              "      <td>-0.208688</td>\n",
              "      <td>-0.091830</td>\n",
              "      <td>-0.097523</td>\n",
              "      <td>-0.011577</td>\n",
              "      <td>0.208218</td>\n",
              "      <td>0.063974</td>\n",
              "      <td>0.060552</td>\n",
              "      <td>0.087199</td>\n",
              "    </tr>\n",
              "    <tr>\n",
              "      <th>Doctorate_Degree</th>\n",
              "      <td>0.153637</td>\n",
              "      <td>-0.007830</td>\n",
              "      <td>0.001468</td>\n",
              "      <td>0.150105</td>\n",
              "      <td>0.127712</td>\n",
              "      <td>0.101898</td>\n",
              "      <td>-0.211311</td>\n",
              "      <td>-0.208688</td>\n",
              "      <td>1.000000</td>\n",
              "      <td>-0.025628</td>\n",
              "      <td>-0.027217</td>\n",
              "      <td>-0.049809</td>\n",
              "      <td>-0.017468</td>\n",
              "      <td>-0.017484</td>\n",
              "      <td>-0.024284</td>\n",
              "      <td>-0.014538</td>\n",
              "    </tr>\n",
              "    <tr>\n",
              "      <th>Highschool</th>\n",
              "      <td>-0.015978</td>\n",
              "      <td>0.016047</td>\n",
              "      <td>-0.010227</td>\n",
              "      <td>-0.016588</td>\n",
              "      <td>-0.011238</td>\n",
              "      <td>-0.010825</td>\n",
              "      <td>-0.105519</td>\n",
              "      <td>-0.091830</td>\n",
              "      <td>-0.025628</td>\n",
              "      <td>1.000000</td>\n",
              "      <td>-0.011976</td>\n",
              "      <td>-0.065669</td>\n",
              "      <td>0.095011</td>\n",
              "      <td>0.017764</td>\n",
              "      <td>0.005891</td>\n",
              "      <td>0.034152</td>\n",
              "    </tr>\n",
              "    <tr>\n",
              "      <th>Some_College</th>\n",
              "      <td>0.006196</td>\n",
              "      <td>0.059776</td>\n",
              "      <td>0.009666</td>\n",
              "      <td>0.011265</td>\n",
              "      <td>0.003805</td>\n",
              "      <td>-0.000642</td>\n",
              "      <td>-0.112060</td>\n",
              "      <td>-0.097523</td>\n",
              "      <td>-0.027217</td>\n",
              "      <td>-0.011976</td>\n",
              "      <td>1.000000</td>\n",
              "      <td>-0.073801</td>\n",
              "      <td>0.102801</td>\n",
              "      <td>0.026489</td>\n",
              "      <td>0.029044</td>\n",
              "      <td>0.019566</td>\n",
              "    </tr>\n",
              "    <tr>\n",
              "      <th>Race_Asian</th>\n",
              "      <td>-0.068055</td>\n",
              "      <td>-0.089103</td>\n",
              "      <td>-0.046248</td>\n",
              "      <td>-0.104162</td>\n",
              "      <td>-0.031835</td>\n",
              "      <td>-0.032912</td>\n",
              "      <td>0.058736</td>\n",
              "      <td>-0.011577</td>\n",
              "      <td>-0.049809</td>\n",
              "      <td>-0.065669</td>\n",
              "      <td>-0.073801</td>\n",
              "      <td>1.000000</td>\n",
              "      <td>-0.516210</td>\n",
              "      <td>-0.140772</td>\n",
              "      <td>-0.130703</td>\n",
              "      <td>-0.166729</td>\n",
              "    </tr>\n",
              "    <tr>\n",
              "      <th>Race_White</th>\n",
              "      <td>0.011424</td>\n",
              "      <td>0.102546</td>\n",
              "      <td>0.074241</td>\n",
              "      <td>0.034390</td>\n",
              "      <td>-0.003930</td>\n",
              "      <td>-0.003874</td>\n",
              "      <td>-0.244635</td>\n",
              "      <td>0.208218</td>\n",
              "      <td>-0.017468</td>\n",
              "      <td>0.095011</td>\n",
              "      <td>0.102801</td>\n",
              "      <td>-0.516210</td>\n",
              "      <td>1.000000</td>\n",
              "      <td>-0.104114</td>\n",
              "      <td>-0.096668</td>\n",
              "      <td>-0.123594</td>\n",
              "    </tr>\n",
              "    <tr>\n",
              "      <th>Race_Two_Or_More</th>\n",
              "      <td>0.003220</td>\n",
              "      <td>-0.020140</td>\n",
              "      <td>-0.020810</td>\n",
              "      <td>0.005131</td>\n",
              "      <td>0.001016</td>\n",
              "      <td>0.007058</td>\n",
              "      <td>-0.066105</td>\n",
              "      <td>0.063974</td>\n",
              "      <td>-0.017484</td>\n",
              "      <td>0.017764</td>\n",
              "      <td>0.026489</td>\n",
              "      <td>-0.140772</td>\n",
              "      <td>-0.104114</td>\n",
              "      <td>1.000000</td>\n",
              "      <td>-0.026361</td>\n",
              "      <td>-0.033704</td>\n",
              "    </tr>\n",
              "    <tr>\n",
              "      <th>Race_Black</th>\n",
              "      <td>-0.027017</td>\n",
              "      <td>-0.033330</td>\n",
              "      <td>-0.040828</td>\n",
              "      <td>-0.016433</td>\n",
              "      <td>-0.038932</td>\n",
              "      <td>-0.003796</td>\n",
              "      <td>-0.057611</td>\n",
              "      <td>0.060552</td>\n",
              "      <td>-0.024284</td>\n",
              "      <td>0.005891</td>\n",
              "      <td>0.029044</td>\n",
              "      <td>-0.130703</td>\n",
              "      <td>-0.096668</td>\n",
              "      <td>-0.026361</td>\n",
              "      <td>1.000000</td>\n",
              "      <td>-0.031294</td>\n",
              "    </tr>\n",
              "    <tr>\n",
              "      <th>Race_Hispanic</th>\n",
              "      <td>-0.017907</td>\n",
              "      <td>-0.000825</td>\n",
              "      <td>-0.008469</td>\n",
              "      <td>-0.011372</td>\n",
              "      <td>-0.019776</td>\n",
              "      <td>-0.004685</td>\n",
              "      <td>-0.092545</td>\n",
              "      <td>0.087199</td>\n",
              "      <td>-0.014538</td>\n",
              "      <td>0.034152</td>\n",
              "      <td>0.019566</td>\n",
              "      <td>-0.166729</td>\n",
              "      <td>-0.123594</td>\n",
              "      <td>-0.033704</td>\n",
              "      <td>-0.031294</td>\n",
              "      <td>1.000000</td>\n",
              "    </tr>\n",
              "  </tbody>\n",
              "</table>\n",
              "</div>"
            ],
            "text/plain": [
              "                         totalyearlycompensation  ...  Race_Hispanic\n",
              "totalyearlycompensation                 1.000000  ...      -0.017907\n",
              "yearsofexperience                       0.401800  ...      -0.000825\n",
              "yearsatcompany                          0.156748  ...      -0.008469\n",
              "basesalary                              0.787722  ...      -0.011372\n",
              "stockgrantvalue                         0.809306  ...      -0.019776\n",
              "bonus                                   0.531189  ...      -0.004685\n",
              "Masters_Degree                          0.108452  ...      -0.092545\n",
              "Bachelors_Degree                       -0.172704  ...       0.087199\n",
              "Doctorate_Degree                        0.153637  ...      -0.014538\n",
              "Highschool                             -0.015978  ...       0.034152\n",
              "Some_College                            0.006196  ...       0.019566\n",
              "Race_Asian                             -0.068055  ...      -0.166729\n",
              "Race_White                              0.011424  ...      -0.123594\n",
              "Race_Two_Or_More                        0.003220  ...      -0.033704\n",
              "Race_Black                             -0.027017  ...      -0.031294\n",
              "Race_Hispanic                          -0.017907  ...       1.000000\n",
              "\n",
              "[16 rows x 16 columns]"
            ]
          },
          "metadata": {},
          "execution_count": 34
        }
      ]
    },
    {
      "cell_type": "markdown",
      "metadata": {
        "id": "zVhCFlG7b9Fv"
      },
      "source": [
        "The majority of our data is composed of software engineers. We will explore whether different job titles will have different yearly compensation distributions in respect of education levels. Then, we will decide whether to limit our investigation to only software engineers. "
      ]
    },
    {
      "cell_type": "code",
      "metadata": {
        "colab": {
          "base_uri": "https://localhost:8080/",
          "height": 295
        },
        "id": "P0Q5PnyUfwAT",
        "outputId": "939436b2-1777-4963-afae-7624d1dabe54"
      },
      "source": [
        "top2bottom2_jobs = [\"Software Engineer\",\"Product Manager\",\"Solution Architect\",\"Business Analyst\"]\n",
        "data_4_jobs = data[data[\"title\"].isin(top2bottom2_jobs)]\n",
        "ax = sns.boxplot(x=\"totalyearlycompensation\", y=\"Education\", data=data_4_jobs, hue = \"title\", orient = \"h\", showfliers = False)\n",
        "ax.set_title(\"Jobs Comparision\")\n",
        "plt.show()"
      ],
      "execution_count": null,
      "outputs": [
        {
          "output_type": "display_data",
          "data": {
            "image/png": "[encoded data removed]",
            "text/plain": [
              "<Figure size 432x288 with 1 Axes>"
            ]
          },
          "metadata": {
            "needs_background": "light"
          }
        }
      ]
    },
    {
      "cell_type": "markdown",
      "metadata": {
        "id": "jwCLIy5RhAqJ"
      },
      "source": [
        "We discovered an obvious difference is that for solution architects, people with high school degree and master degree have higher median total yearly compensation than people holding a PhD degree, which is deviant from other job salary pattern. Therefore, we believe job titles will have an effect on compensation among different education levels. We will limit our scope for regression analysis to just software engineers. "
      ]
    },
    {
      "cell_type": "code",
      "metadata": {
        "colab": {
          "base_uri": "https://localhost:8080/",
          "height": 309
        },
        "id": "mukDdWRnkghO",
        "outputId": "6a67534a-4d00-4994-c48c-c25d5bac187f"
      },
      "source": [
        "Software_engineer_data = data[data['title']=='Software Engineer']\n",
        "Software_engineer_data.head()"
      ],
      "execution_count": null,
      "outputs": [
        {
          "output_type": "execute_result",
          "data": {
            "text/html": [
              "<div>\n",
              "<style scoped>\n",
              "    .dataframe tbody tr th:only-of-type {\n",
              "        vertical-align: middle;\n",
              "    }\n",
              "\n",
              "    .dataframe tbody tr th {\n",
              "        vertical-align: top;\n",
              "    }\n",
              "\n",
              "    .dataframe thead th {\n",
              "        text-align: right;\n",
              "    }\n",
              "</style>\n",
              "<table border=\"1\" class=\"dataframe\">\n",
              "  <thead>\n",
              "    <tr style=\"text-align: right;\">\n",
              "      <th></th>\n",
              "      <th>company</th>\n",
              "      <th>level</th>\n",
              "      <th>title</th>\n",
              "      <th>totalyearlycompensation</th>\n",
              "      <th>location</th>\n",
              "      <th>yearsofexperience</th>\n",
              "      <th>yearsatcompany</th>\n",
              "      <th>basesalary</th>\n",
              "      <th>stockgrantvalue</th>\n",
              "      <th>bonus</th>\n",
              "      <th>gender</th>\n",
              "      <th>Masters_Degree</th>\n",
              "      <th>Bachelors_Degree</th>\n",
              "      <th>Doctorate_Degree</th>\n",
              "      <th>Highschool</th>\n",
              "      <th>Some_College</th>\n",
              "      <th>Race_Asian</th>\n",
              "      <th>Race_White</th>\n",
              "      <th>Race_Two_Or_More</th>\n",
              "      <th>Race_Black</th>\n",
              "      <th>Race_Hispanic</th>\n",
              "      <th>Education</th>\n",
              "    </tr>\n",
              "  </thead>\n",
              "  <tbody>\n",
              "    <tr>\n",
              "      <th>5037</th>\n",
              "      <td>Bloomberg</td>\n",
              "      <td>Software Engineer</td>\n",
              "      <td>Software Engineer</td>\n",
              "      <td>170000</td>\n",
              "      <td>New York, NY</td>\n",
              "      <td>0.0</td>\n",
              "      <td>0.0</td>\n",
              "      <td>142000.0</td>\n",
              "      <td>0.0</td>\n",
              "      <td>18000.0</td>\n",
              "      <td>Male</td>\n",
              "      <td>1</td>\n",
              "      <td>0</td>\n",
              "      <td>0</td>\n",
              "      <td>0</td>\n",
              "      <td>0</td>\n",
              "      <td>0</td>\n",
              "      <td>0</td>\n",
              "      <td>0</td>\n",
              "      <td>0</td>\n",
              "      <td>0</td>\n",
              "      <td>Master's Degree</td>\n",
              "    </tr>\n",
              "    <tr>\n",
              "      <th>6055</th>\n",
              "      <td>Apple</td>\n",
              "      <td>ICT3</td>\n",
              "      <td>Software Engineer</td>\n",
              "      <td>240000</td>\n",
              "      <td>Cupertino, CA</td>\n",
              "      <td>3.0</td>\n",
              "      <td>3.0</td>\n",
              "      <td>150000.0</td>\n",
              "      <td>75000.0</td>\n",
              "      <td>15000.0</td>\n",
              "      <td>Female</td>\n",
              "      <td>0</td>\n",
              "      <td>0</td>\n",
              "      <td>1</td>\n",
              "      <td>0</td>\n",
              "      <td>0</td>\n",
              "      <td>0</td>\n",
              "      <td>0</td>\n",
              "      <td>0</td>\n",
              "      <td>0</td>\n",
              "      <td>0</td>\n",
              "      <td>PhD</td>\n",
              "    </tr>\n",
              "    <tr>\n",
              "      <th>7218</th>\n",
              "      <td>Synopsys</td>\n",
              "      <td>100</td>\n",
              "      <td>Software Engineer</td>\n",
              "      <td>310000</td>\n",
              "      <td>Mountain View, CA</td>\n",
              "      <td>25.0</td>\n",
              "      <td>9.0</td>\n",
              "      <td>210000.0</td>\n",
              "      <td>40000.0</td>\n",
              "      <td>60000.0</td>\n",
              "      <td>Male</td>\n",
              "      <td>0</td>\n",
              "      <td>0</td>\n",
              "      <td>1</td>\n",
              "      <td>0</td>\n",
              "      <td>0</td>\n",
              "      <td>0</td>\n",
              "      <td>0</td>\n",
              "      <td>0</td>\n",
              "      <td>0</td>\n",
              "      <td>0</td>\n",
              "      <td>PhD</td>\n",
              "    </tr>\n",
              "    <tr>\n",
              "      <th>7291</th>\n",
              "      <td>ExxonMobil</td>\n",
              "      <td>23</td>\n",
              "      <td>Software Engineer</td>\n",
              "      <td>105000</td>\n",
              "      <td>Houston, TX</td>\n",
              "      <td>2.0</td>\n",
              "      <td>0.0</td>\n",
              "      <td>105000.0</td>\n",
              "      <td>0.0</td>\n",
              "      <td>5000.0</td>\n",
              "      <td>Male</td>\n",
              "      <td>1</td>\n",
              "      <td>0</td>\n",
              "      <td>0</td>\n",
              "      <td>0</td>\n",
              "      <td>0</td>\n",
              "      <td>0</td>\n",
              "      <td>0</td>\n",
              "      <td>0</td>\n",
              "      <td>0</td>\n",
              "      <td>0</td>\n",
              "      <td>Master's Degree</td>\n",
              "    </tr>\n",
              "    <tr>\n",
              "      <th>7758</th>\n",
              "      <td>Google</td>\n",
              "      <td>L3</td>\n",
              "      <td>Software Engineer</td>\n",
              "      <td>200000</td>\n",
              "      <td>Sunnyvale, CA</td>\n",
              "      <td>0.0</td>\n",
              "      <td>0.0</td>\n",
              "      <td>143000.0</td>\n",
              "      <td>35000.0</td>\n",
              "      <td>22000.0</td>\n",
              "      <td>Female</td>\n",
              "      <td>0</td>\n",
              "      <td>0</td>\n",
              "      <td>1</td>\n",
              "      <td>0</td>\n",
              "      <td>0</td>\n",
              "      <td>0</td>\n",
              "      <td>0</td>\n",
              "      <td>0</td>\n",
              "      <td>0</td>\n",
              "      <td>0</td>\n",
              "      <td>PhD</td>\n",
              "    </tr>\n",
              "  </tbody>\n",
              "</table>\n",
              "</div>"
            ],
            "text/plain": [
              "         company              level  ... Race_Hispanic        Education\n",
              "5037   Bloomberg  Software Engineer  ...             0  Master's Degree\n",
              "6055       Apple               ICT3  ...             0              PhD\n",
              "7218    Synopsys                100  ...             0              PhD\n",
              "7291  ExxonMobil                 23  ...             0  Master's Degree\n",
              "7758      Google                 L3  ...             0              PhD\n",
              "\n",
              "[5 rows x 22 columns]"
            ]
          },
          "metadata": {},
          "execution_count": 36
        }
      ]
    },
    {
      "cell_type": "code",
      "metadata": {
        "colab": {
          "base_uri": "https://localhost:8080/"
        },
        "id": "Ax_RLRM1i0zb",
        "outputId": "99db89ec-1283-4789-9e62-99488f101eef"
      },
      "source": [
        "All = sm.ols(formula=\"totalyearlycompensation ~ yearsofexperience + yearsatcompany + gender + Education + Race_Asian + Race_White + Race_Black + Race_Hispanic + Race_Two_Or_More\", \n",
        "                data=Software_engineer_data).fit()\n",
        "print(All.summary())"
      ],
      "execution_count": null,
      "outputs": [
        {
          "output_type": "stream",
          "name": "stdout",
          "text": [
            "                               OLS Regression Results                              \n",
            "===================================================================================\n",
            "Dep. Variable:     totalyearlycompensation   R-squared:                       0.195\n",
            "Model:                                 OLS   Adj. R-squared:                  0.194\n",
            "Method:                      Least Squares   F-statistic:                     327.8\n",
            "Date:                     Thu, 02 Dec 2021   Prob (F-statistic):               0.00\n",
            "Time:                             05:45:42   Log-Likelihood:            -2.2874e+05\n",
            "No. Observations:                    17621   AIC:                         4.575e+05\n",
            "Df Residuals:                        17607   BIC:                         4.576e+05\n",
            "Df Model:                               13                                         \n",
            "Covariance Type:                 nonrobust                                         \n",
            "================================================================================================\n",
            "                                   coef    std err          t      P>|t|      [0.025      0.975]\n",
            "------------------------------------------------------------------------------------------------\n",
            "Intercept                      1.39e+05   3079.070     45.129      0.000    1.33e+05    1.45e+05\n",
            "gender[T.Male]               -4118.3905   2360.314     -1.745      0.081   -8744.838     508.057\n",
            "gender[T.Other]               1.486e+04   1.03e+04      1.448      0.148   -5251.769     3.5e+04\n",
            "Education[T.Highschool]      -1.374e+04   7289.062     -1.885      0.059    -2.8e+04     544.559\n",
            "Education[T.Master's Degree]  2.996e+04   1794.669     16.693      0.000    2.64e+04    3.35e+04\n",
            "Education[T.PhD]              1.204e+05   4077.402     29.519      0.000    1.12e+05    1.28e+05\n",
            "Education[T.Some College]      848.8082   7099.056      0.120      0.905   -1.31e+04    1.48e+04\n",
            "yearsofexperience             8810.2474    185.074     47.604      0.000    8447.484    9173.011\n",
            "yearsatcompany               -2733.1029    325.133     -8.406      0.000   -3370.397   -2095.809\n",
            "Race_Asian                   -1.492e+04   2129.241     -7.005      0.000   -1.91e+04   -1.07e+04\n",
            "Race_White                   -6364.4577   2491.721     -2.554      0.011   -1.12e+04   -1480.439\n",
            "Race_Black                   -7377.4734   5895.859     -1.251      0.211   -1.89e+04    4178.993\n",
            "Race_Hispanic                -6488.4517   4548.009     -1.427      0.154   -1.54e+04    2426.095\n",
            "Race_Two_Or_More              9388.9317   5327.583      1.762      0.078   -1053.657    1.98e+04\n",
            "==============================================================================\n",
            "Omnibus:                     6105.015   Durbin-Watson:                   1.905\n",
            "Prob(Omnibus):                  0.000   Jarque-Bera (JB):            37007.482\n",
            "Skew:                           1.537   Prob(JB):                         0.00\n",
            "Kurtosis:                       9.400   Cond. No.                         111.\n",
            "==============================================================================\n",
            "\n",
            "Warnings:\n",
            "[1] Standard Errors assume that the covariance matrix of the errors is correctly specified.\n"
          ]
        }
      ]
    },
    {
      "cell_type": "markdown",
      "metadata": {
        "id": "rfrAO6H6nZAo"
      },
      "source": [
        "When we include all potential independent variables in the regression analysis, we discovered 'Master's degree','PhD', 'yearsofexperience', 'yearsatcompany', 'Race_Asian', 'Race_White' are statistically significant in 5% significance level in deciding the total yearly compensation for software engineers. "
      ]
    },
    {
      "cell_type": "markdown",
      "metadata": {
        "id": "x7Q76q5IrNAK"
      },
      "source": [
        "We would like to run two regression analysis to solve the two questions below:\n",
        "\n",
        "1. Does a Master degree have a higher total yearly compensation for software engineers than a bachelor's degree? \n",
        "\n",
        "2. Does a Ph.D. degree have a higher total yearly compensation for software engineers than a master's degree? "
      ]
    },
    {
      "cell_type": "markdown",
      "metadata": {
        "id": "Y9aMXDFZszgz"
      },
      "source": [
        "##3.2 Prepare Variables Data"
      ]
    },
    {
      "cell_type": "markdown",
      "metadata": {
        "id": "wtIhlMKNs5Xs"
      },
      "source": [
        "We will include years of experience, years at company and race data for control. Our main independent variable is education level and dependent variable is total yearly compensation. "
      ]
    },
    {
      "cell_type": "code",
      "metadata": {
        "colab": {
          "base_uri": "https://localhost:8080/",
          "height": 204
        },
        "id": "UgexWkKftC67",
        "outputId": "584565d9-3108-4530-9260-837245499da3"
      },
      "source": [
        "master_or_bachelor = Software_engineer_data[(Software_engineer_data[\"Education\"] == \"Master's Degree\") | (Software_engineer_data[\"Education\"] == \"Bachelor's Degree\")].loc[:,['totalyearlycompensation','yearsofexperience','yearsatcompany','Education','Race_Asian','Race_White']]\n",
        "master_or_bachelor[\"master_or_bachelor_dm\"] = [1 if x == \"Master's Degree\" else 0 for x in master_or_bachelor[\"Education\"]]\n",
        "master_or_bachelor.head()"
      ],
      "execution_count": null,
      "outputs": [
        {
          "output_type": "execute_result",
          "data": {
            "text/html": [
              "<div>\n",
              "<style scoped>\n",
              "    .dataframe tbody tr th:only-of-type {\n",
              "        vertical-align: middle;\n",
              "    }\n",
              "\n",
              "    .dataframe tbody tr th {\n",
              "        vertical-align: top;\n",
              "    }\n",
              "\n",
              "    .dataframe thead th {\n",
              "        text-align: right;\n",
              "    }\n",
              "</style>\n",
              "<table border=\"1\" class=\"dataframe\">\n",
              "  <thead>\n",
              "    <tr style=\"text-align: right;\">\n",
              "      <th></th>\n",
              "      <th>totalyearlycompensation</th>\n",
              "      <th>yearsofexperience</th>\n",
              "      <th>yearsatcompany</th>\n",
              "      <th>Education</th>\n",
              "      <th>Race_Asian</th>\n",
              "      <th>Race_White</th>\n",
              "      <th>master_or_bachelor_dm</th>\n",
              "    </tr>\n",
              "  </thead>\n",
              "  <tbody>\n",
              "    <tr>\n",
              "      <th>5037</th>\n",
              "      <td>170000</td>\n",
              "      <td>0.0</td>\n",
              "      <td>0.0</td>\n",
              "      <td>Master's Degree</td>\n",
              "      <td>0</td>\n",
              "      <td>0</td>\n",
              "      <td>1</td>\n",
              "    </tr>\n",
              "    <tr>\n",
              "      <th>7291</th>\n",
              "      <td>105000</td>\n",
              "      <td>2.0</td>\n",
              "      <td>0.0</td>\n",
              "      <td>Master's Degree</td>\n",
              "      <td>0</td>\n",
              "      <td>0</td>\n",
              "      <td>1</td>\n",
              "    </tr>\n",
              "    <tr>\n",
              "      <th>12504</th>\n",
              "      <td>242000</td>\n",
              "      <td>8.0</td>\n",
              "      <td>1.0</td>\n",
              "      <td>Master's Degree</td>\n",
              "      <td>0</td>\n",
              "      <td>0</td>\n",
              "      <td>1</td>\n",
              "    </tr>\n",
              "    <tr>\n",
              "      <th>12506</th>\n",
              "      <td>172000</td>\n",
              "      <td>5.0</td>\n",
              "      <td>0.0</td>\n",
              "      <td>Master's Degree</td>\n",
              "      <td>0</td>\n",
              "      <td>0</td>\n",
              "      <td>1</td>\n",
              "    </tr>\n",
              "    <tr>\n",
              "      <th>12510</th>\n",
              "      <td>255000</td>\n",
              "      <td>5.0</td>\n",
              "      <td>0.0</td>\n",
              "      <td>Master's Degree</td>\n",
              "      <td>0</td>\n",
              "      <td>0</td>\n",
              "      <td>1</td>\n",
              "    </tr>\n",
              "  </tbody>\n",
              "</table>\n",
              "</div>"
            ],
            "text/plain": [
              "       totalyearlycompensation  ...  master_or_bachelor_dm\n",
              "5037                    170000  ...                      1\n",
              "7291                    105000  ...                      1\n",
              "12504                   242000  ...                      1\n",
              "12506                   172000  ...                      1\n",
              "12510                   255000  ...                      1\n",
              "\n",
              "[5 rows x 7 columns]"
            ]
          },
          "metadata": {},
          "execution_count": 38
        }
      ]
    },
    {
      "cell_type": "code",
      "metadata": {
        "colab": {
          "base_uri": "https://localhost:8080/",
          "height": 204
        },
        "id": "t6sT0FS4v8l6",
        "outputId": "ee39be77-711a-4842-8562-bc8bffac5298"
      },
      "source": [
        "phd_or_master = Software_engineer_data[(Software_engineer_data[\"Education\"] == \"Master's Degree\") | (Software_engineer_data[\"Education\"] == \"PhD\")].loc[:,['totalyearlycompensation','yearsofexperience','yearsatcompany','Education','Race_Asian','Race_White']]\n",
        "phd_or_master[\"phd_or_master_dm\"] = [1 if x == \"PhD\" else 0 for x in phd_or_master[\"Education\"]]\n",
        "phd_or_master.head()"
      ],
      "execution_count": null,
      "outputs": [
        {
          "output_type": "execute_result",
          "data": {
            "text/html": [
              "<div>\n",
              "<style scoped>\n",
              "    .dataframe tbody tr th:only-of-type {\n",
              "        vertical-align: middle;\n",
              "    }\n",
              "\n",
              "    .dataframe tbody tr th {\n",
              "        vertical-align: top;\n",
              "    }\n",
              "\n",
              "    .dataframe thead th {\n",
              "        text-align: right;\n",
              "    }\n",
              "</style>\n",
              "<table border=\"1\" class=\"dataframe\">\n",
              "  <thead>\n",
              "    <tr style=\"text-align: right;\">\n",
              "      <th></th>\n",
              "      <th>totalyearlycompensation</th>\n",
              "      <th>yearsofexperience</th>\n",
              "      <th>yearsatcompany</th>\n",
              "      <th>Education</th>\n",
              "      <th>Race_Asian</th>\n",
              "      <th>Race_White</th>\n",
              "      <th>phd_or_master_dm</th>\n",
              "    </tr>\n",
              "  </thead>\n",
              "  <tbody>\n",
              "    <tr>\n",
              "      <th>5037</th>\n",
              "      <td>170000</td>\n",
              "      <td>0.0</td>\n",
              "      <td>0.0</td>\n",
              "      <td>Master's Degree</td>\n",
              "      <td>0</td>\n",
              "      <td>0</td>\n",
              "      <td>0</td>\n",
              "    </tr>\n",
              "    <tr>\n",
              "      <th>6055</th>\n",
              "      <td>240000</td>\n",
              "      <td>3.0</td>\n",
              "      <td>3.0</td>\n",
              "      <td>PhD</td>\n",
              "      <td>0</td>\n",
              "      <td>0</td>\n",
              "      <td>1</td>\n",
              "    </tr>\n",
              "    <tr>\n",
              "      <th>7218</th>\n",
              "      <td>310000</td>\n",
              "      <td>25.0</td>\n",
              "      <td>9.0</td>\n",
              "      <td>PhD</td>\n",
              "      <td>0</td>\n",
              "      <td>0</td>\n",
              "      <td>1</td>\n",
              "    </tr>\n",
              "    <tr>\n",
              "      <th>7291</th>\n",
              "      <td>105000</td>\n",
              "      <td>2.0</td>\n",
              "      <td>0.0</td>\n",
              "      <td>Master's Degree</td>\n",
              "      <td>0</td>\n",
              "      <td>0</td>\n",
              "      <td>0</td>\n",
              "    </tr>\n",
              "    <tr>\n",
              "      <th>7758</th>\n",
              "      <td>200000</td>\n",
              "      <td>0.0</td>\n",
              "      <td>0.0</td>\n",
              "      <td>PhD</td>\n",
              "      <td>0</td>\n",
              "      <td>0</td>\n",
              "      <td>1</td>\n",
              "    </tr>\n",
              "  </tbody>\n",
              "</table>\n",
              "</div>"
            ],
            "text/plain": [
              "      totalyearlycompensation  yearsofexperience  ...  Race_White phd_or_master_dm\n",
              "5037                   170000                0.0  ...           0                0\n",
              "6055                   240000                3.0  ...           0                1\n",
              "7218                   310000               25.0  ...           0                1\n",
              "7291                   105000                2.0  ...           0                0\n",
              "7758                   200000                0.0  ...           0                1\n",
              "\n",
              "[5 rows x 7 columns]"
            ]
          },
          "metadata": {},
          "execution_count": 39
        }
      ]
    },
    {
      "cell_type": "markdown",
      "metadata": {
        "id": "NepVzjsVzRss"
      },
      "source": [
        "##3.3 Regression Analysis"
      ]
    },
    {
      "cell_type": "markdown",
      "metadata": {
        "id": "wmWFrAb_6-5w"
      },
      "source": [
        "After the descriptive analysis, we are going to use regression analysis to address the two questions mentioned above. So far we have some insights into it but we do not know if this holds for the entire population. We can see if the results can be extended by performing a hypothesis test.\n",
        "\n",
        "For the first question: Does a Master degree have a higher total yearly compensation for software engineers than a bachelor's degree? \n",
        "\n",
        "H0: μ_ms ≤ μ_ba\n",
        "\n",
        "H1: μ_ms＞μ_ba\n"
      ]
    },
    {
      "cell_type": "code",
      "metadata": {
        "colab": {
          "base_uri": "https://localhost:8080/"
        },
        "id": "FdopeAF4zSYZ",
        "outputId": "da5839df-ca85-4193-efa5-7aa574089cdf"
      },
      "source": [
        "regression1 = sm.ols(formula=\"totalyearlycompensation ~ yearsofexperience + yearsatcompany + Race_Asian + Race_White + master_or_bachelor_dm\", \n",
        "                data=master_or_bachelor).fit()\n",
        "print(regression1.summary())"
      ],
      "execution_count": null,
      "outputs": [
        {
          "output_type": "stream",
          "name": "stdout",
          "text": [
            "                               OLS Regression Results                              \n",
            "===================================================================================\n",
            "Dep. Variable:     totalyearlycompensation   R-squared:                       0.168\n",
            "Model:                                 OLS   Adj. R-squared:                  0.168\n",
            "Method:                      Least Squares   F-statistic:                     662.5\n",
            "Date:                     Thu, 02 Dec 2021   Prob (F-statistic):               0.00\n",
            "Time:                             05:45:46   Log-Likelihood:            -2.1296e+05\n",
            "No. Observations:                    16431   AIC:                         4.259e+05\n",
            "Df Residuals:                        16425   BIC:                         4.260e+05\n",
            "Df Model:                                5                                         \n",
            "Covariance Type:                 nonrobust                                         \n",
            "=========================================================================================\n",
            "                            coef    std err          t      P>|t|      [0.025      0.975]\n",
            "-----------------------------------------------------------------------------------------\n",
            "Intercept              1.357e+05   2006.173     67.649      0.000    1.32e+05     1.4e+05\n",
            "yearsofexperience      8793.4836    189.883     46.310      0.000    8421.293    9165.675\n",
            "yearsatcompany        -2884.0114    331.636     -8.696      0.000   -3534.054   -2233.968\n",
            "Race_Asian            -1.595e+04   1902.482     -8.385      0.000   -1.97e+04   -1.22e+04\n",
            "Race_White            -5256.2492   2277.114     -2.308      0.021   -9719.640    -792.858\n",
            "master_or_bachelor_dm  3.051e+04   1688.956     18.064      0.000    2.72e+04    3.38e+04\n",
            "==============================================================================\n",
            "Omnibus:                     5776.048   Durbin-Watson:                   1.887\n",
            "Prob(Omnibus):                  0.000   Jarque-Bera (JB):            36456.528\n",
            "Skew:                           1.548   Prob(JB):                         0.00\n",
            "Kurtosis:                       9.608   Cond. No.                         32.8\n",
            "==============================================================================\n",
            "\n",
            "Warnings:\n",
            "[1] Standard Errors assume that the covariance matrix of the errors is correctly specified.\n"
          ]
        }
      ]
    },
    {
      "cell_type": "code",
      "metadata": {
        "colab": {
          "base_uri": "https://localhost:8080/"
        },
        "id": "WJXsGAHn1QOK",
        "outputId": "7050c85f-b5e6-4e10-b778-01e56eb0c9ae"
      },
      "source": [
        "regression1.params"
      ],
      "execution_count": null,
      "outputs": [
        {
          "output_type": "execute_result",
          "data": {
            "text/plain": [
              "Intercept                135716.083901\n",
              "yearsofexperience          8793.483604\n",
              "yearsatcompany            -2884.011358\n",
              "Race_Asian               -15952.317226\n",
              "Race_White                -5256.249206\n",
              "master_or_bachelor_dm     30510.101751\n",
              "dtype: float64"
            ]
          },
          "metadata": {},
          "execution_count": 41
        }
      ]
    },
    {
      "cell_type": "markdown",
      "metadata": {
        "id": "mK86z7qC1XES"
      },
      "source": [
        "The coefficient of master_or_bachelor_dm is 30510.101751, and its p-value is 0.000 which is statistically significant at a 5% significance level.\n",
        "It means that being a master rather than a bachelor will earn 30510 more dollars on a software engineering role, controlling for other variables.\n",
        "\n",
        "We can reject null hypothesis and conclude that a Master degree have a higher total yearly compensation for software engineers than a bachelor's degree."
      ]
    },
    {
      "cell_type": "markdown",
      "metadata": {
        "id": "FYtvwVTj-MUO"
      },
      "source": [
        "For the second question: Does a Ph.D. degree have a higher total yearly compensation for software engineers than a master's degree?\n",
        "\n",
        "H0: μ_phd ≤ μ_ms\n",
        "\n",
        "H1: μ_phd＞μ_ms"
      ]
    },
    {
      "cell_type": "code",
      "metadata": {
        "colab": {
          "base_uri": "https://localhost:8080/"
        },
        "id": "1FFRVEri2NF4",
        "outputId": "6848bb28-d8f1-488e-c48d-85ffa6192a14"
      },
      "source": [
        "regression2 = sm.ols(formula=\"totalyearlycompensation ~ yearsofexperience + yearsatcompany + Race_Asian + Race_White + phd_or_master_dm\", \n",
        "                data=phd_or_master).fit()\n",
        "print(regression2.summary())"
      ],
      "execution_count": null,
      "outputs": [
        {
          "output_type": "stream",
          "name": "stdout",
          "text": [
            "                               OLS Regression Results                              \n",
            "===================================================================================\n",
            "Dep. Variable:     totalyearlycompensation   R-squared:                       0.179\n",
            "Model:                                 OLS   Adj. R-squared:                  0.178\n",
            "Method:                      Least Squares   F-statistic:                     392.4\n",
            "Date:                     Thu, 02 Dec 2021   Prob (F-statistic):               0.00\n",
            "Time:                             05:45:48   Log-Likelihood:            -1.1732e+05\n",
            "No. Observations:                     9030   AIC:                         2.347e+05\n",
            "Df Residuals:                         9024   BIC:                         2.347e+05\n",
            "Df Model:                                5                                         \n",
            "Covariance Type:                 nonrobust                                         \n",
            "=====================================================================================\n",
            "                        coef    std err          t      P>|t|      [0.025      0.975]\n",
            "-------------------------------------------------------------------------------------\n",
            "Intercept          1.662e+05   2334.745     71.182      0.000    1.62e+05    1.71e+05\n",
            "yearsofexperience  9219.7657    257.053     35.867      0.000    8715.884    9723.648\n",
            "yearsatcompany    -3978.3867    438.895     -9.065      0.000   -4838.720   -3118.053\n",
            "Race_Asian        -8723.7625   2436.316     -3.581      0.000   -1.35e+04   -3948.031\n",
            "Race_White        -2.987e+04   3444.743     -8.671      0.000   -3.66e+04   -2.31e+04\n",
            "phd_or_master_dm   9.367e+04   4082.456     22.944      0.000    8.57e+04    1.02e+05\n",
            "==============================================================================\n",
            "Omnibus:                     2793.626   Durbin-Watson:                   1.925\n",
            "Prob(Omnibus):                  0.000   Jarque-Bera (JB):            13847.824\n",
            "Skew:                           1.413   Prob(JB):                         0.00\n",
            "Kurtosis:                       8.369   Cond. No.                         32.6\n",
            "==============================================================================\n",
            "\n",
            "Warnings:\n",
            "[1] Standard Errors assume that the covariance matrix of the errors is correctly specified.\n"
          ]
        }
      ]
    },
    {
      "cell_type": "code",
      "metadata": {
        "colab": {
          "base_uri": "https://localhost:8080/"
        },
        "id": "Gcn8lK1W2M4h",
        "outputId": "674dcfc4-f180-4ae1-a1b8-07749b778fb7"
      },
      "source": [
        "regression2.params"
      ],
      "execution_count": null,
      "outputs": [
        {
          "output_type": "execute_result",
          "data": {
            "text/plain": [
              "Intercept            166191.584876\n",
              "yearsofexperience      9219.765697\n",
              "yearsatcompany        -3978.386655\n",
              "Race_Asian            -8723.762517\n",
              "Race_White           -29868.181457\n",
              "phd_or_master_dm      93666.062530\n",
              "dtype: float64"
            ]
          },
          "metadata": {},
          "execution_count": 43
        }
      ]
    },
    {
      "cell_type": "markdown",
      "metadata": {
        "id": "8VsPI9AD2ksj"
      },
      "source": [
        "The coefficient of master_or_bachelor_dm is 93666.062530, and it is also statistically significant at a 5% significance level.\n",
        "It means that being a phd rather than a master will earn even 93666 more dollars on a software engineering role, controlling for other variables. \n",
        "\n",
        "We can still reject null hypothesis and draw a conclusion that a Ph.D. degree have a higher total yearly compensation for software engineers than a master's degree."
      ]
    },
    {
      "cell_type": "markdown",
      "metadata": {
        "id": "Ch_RUX-a2-7f"
      },
      "source": [
        "According to the results of two regression analysis, we can learn that a master's degree come with a higher compensation in Software Engineering jobs compared with a bachelor's degree but not with a phD's degree. To some extent, higher level does lead to higher total yearly compensation."
      ]
    },
    {
      "cell_type": "markdown",
      "metadata": {
        "id": "w5LcdAPerhGX"
      },
      "source": [
        "### Interaction term investigation\n",
        "Now that we know that a master degree increases total compensation in Software Engineer jobs, we want to further investigate whether other factors like gender and race would interact with this impact…"
      ]
    },
    {
      "cell_type": "markdown",
      "metadata": {
        "id": "hN3aw5i-vaHS"
      },
      "source": [
        "#### Interaction 1: compensation ~ master degree x gender\n",
        "Does gender affect how much a master degree increases total compensation? i.e. whether there's a difference in total compensation for males with a master degree and for females with a master degree."
      ]
    },
    {
      "cell_type": "code",
      "metadata": {
        "id": "S_JC-JrgrB39"
      },
      "source": [
        "master_or_bachelor = Software_engineer_data[(Software_engineer_data[\"Education\"] == \"Master's Degree\") | (Software_engineer_data[\"Education\"] == \"Bachelor's Degree\")].loc[:,['totalyearlycompensation','yearsofexperience','yearsatcompany','Education','Race_Asian','Race_White', 'Race_Black', 'Race_Hispanic', 'gender']]\n",
        "master_or_bachelor[\"master_or_bachelor_dm\"] = [1 if x == \"Master's Degree\" else 0 for x in master_or_bachelor[\"Education\"]]"
      ],
      "execution_count": null,
      "outputs": []
    },
    {
      "cell_type": "code",
      "metadata": {
        "colab": {
          "base_uri": "https://localhost:8080/"
        },
        "id": "Ptsd3mv8qLgI",
        "outputId": "9e74cc5a-fb1a-400b-fa82-b6eab36f5f8b"
      },
      "source": [
        "regression1 = sm.ols(formula=\"totalyearlycompensation ~ master_or_bachelor_dm + gender + master_or_bachelor_dm * gender\", \n",
        "                data=master_or_bachelor).fit()\n",
        "print(regression1.summary())"
      ],
      "execution_count": null,
      "outputs": [
        {
          "output_type": "stream",
          "name": "stdout",
          "text": [
            "                               OLS Regression Results                              \n",
            "===================================================================================\n",
            "Dep. Variable:     totalyearlycompensation   R-squared:                       0.032\n",
            "Model:                                 OLS   Adj. R-squared:                  0.031\n",
            "Method:                      Least Squares   F-statistic:                     107.8\n",
            "Date:                     Thu, 02 Dec 2021   Prob (F-statistic):          2.41e-112\n",
            "Time:                             05:45:56   Log-Likelihood:            -2.1421e+05\n",
            "No. Observations:                    16431   AIC:                         4.284e+05\n",
            "Df Residuals:                        16425   BIC:                         4.285e+05\n",
            "Df Model:                                5                                         \n",
            "Covariance Type:                 nonrobust                                         \n",
            "=========================================================================================================\n",
            "                                            coef    std err          t      P>|t|      [0.025      0.975]\n",
            "---------------------------------------------------------------------------------------------------------\n",
            "Intercept                              1.632e+05   3395.629     48.060      0.000    1.57e+05     1.7e+05\n",
            "gender[T.Male]                         6261.6897   3645.033      1.718      0.086    -882.970    1.34e+04\n",
            "gender[T.Other]                        1.716e+04   1.61e+04      1.068      0.286   -1.43e+04    4.87e+04\n",
            "master_or_bachelor_dm                  3.428e+04   4726.850      7.253      0.000     2.5e+04    4.35e+04\n",
            "master_or_bachelor_dm:gender[T.Male]   5844.7841   5083.130      1.150      0.250   -4118.702    1.58e+04\n",
            "master_or_bachelor_dm:gender[T.Other]  3.138e+04   2.27e+04      1.382      0.167   -1.31e+04    7.59e+04\n",
            "==============================================================================\n",
            "Omnibus:                     6925.628   Durbin-Watson:                   1.884\n",
            "Prob(Omnibus):                  0.000   Jarque-Bera (JB):            48007.917\n",
            "Skew:                           1.884   Prob(JB):                         0.00\n",
            "Kurtosis:                      10.479   Cond. No.                         46.1\n",
            "==============================================================================\n",
            "\n",
            "Warnings:\n",
            "[1] Standard Errors assume that the covariance matrix of the errors is correctly specified.\n"
          ]
        }
      ]
    },
    {
      "cell_type": "markdown",
      "metadata": {
        "id": "y43qtlhztEVT"
      },
      "source": [
        "The interaction term has a p-value greater than 0.05, indicating that gender does not affect how a master degree increases total compensation."
      ]
    },
    {
      "cell_type": "markdown",
      "metadata": {
        "id": "8LviGqyLvb_u"
      },
      "source": [
        "#### Interaction 2: compensation ~ master degree x race\n",
        "Does race affect how much a master degree increases total compensation? i.e. whether there's a difference in total compensation for Asian / White / Black / Hispanic with a master degree.\n"
      ]
    },
    {
      "cell_type": "code",
      "metadata": {
        "colab": {
          "base_uri": "https://localhost:8080/"
        },
        "id": "lQamOm2mvpVt",
        "outputId": "6ce82907-f4a3-4883-b5b4-9fbc5f65b769"
      },
      "source": [
        "# master x race_asian\n",
        "regression1 = sm.ols(formula=\"totalyearlycompensation ~ master_or_bachelor_dm + Race_Asian + master_or_bachelor_dm * Race_Asian\", \n",
        "                data=master_or_bachelor).fit()\n",
        "print(regression1.summary())"
      ],
      "execution_count": null,
      "outputs": [
        {
          "output_type": "stream",
          "name": "stdout",
          "text": [
            "                               OLS Regression Results                              \n",
            "===================================================================================\n",
            "Dep. Variable:     totalyearlycompensation   R-squared:                       0.040\n",
            "Model:                                 OLS   Adj. R-squared:                  0.040\n",
            "Method:                      Least Squares   F-statistic:                     229.9\n",
            "Date:                     Thu, 02 Dec 2021   Prob (F-statistic):          3.89e-146\n",
            "Time:                             05:46:01   Log-Likelihood:            -2.1413e+05\n",
            "No. Observations:                    16431   AIC:                         4.283e+05\n",
            "Df Residuals:                        16427   BIC:                         4.283e+05\n",
            "Df Model:                                3                                         \n",
            "Covariance Type:                 nonrobust                                         \n",
            "====================================================================================================\n",
            "                                       coef    std err          t      P>|t|      [0.025      0.975]\n",
            "----------------------------------------------------------------------------------------------------\n",
            "Intercept                          1.81e+05   1627.005    111.257      0.000    1.78e+05    1.84e+05\n",
            "master_or_bachelor_dm             3.378e+04   2321.481     14.551      0.000    2.92e+04    3.83e+04\n",
            "Race_Asian                       -2.844e+04   2472.625    -11.503      0.000   -3.33e+04   -2.36e+04\n",
            "master_or_bachelor_dm:Race_Asian  1.402e+04   3471.573      4.039      0.000    7218.024    2.08e+04\n",
            "==============================================================================\n",
            "Omnibus:                     7017.374   Durbin-Watson:                   1.889\n",
            "Prob(Omnibus):                  0.000   Jarque-Bera (JB):            49080.658\n",
            "Skew:                           1.911   Prob(JB):                         0.00\n",
            "Kurtosis:                      10.555   Cond. No.                         6.62\n",
            "==============================================================================\n",
            "\n",
            "Warnings:\n",
            "[1] Standard Errors assume that the covariance matrix of the errors is correctly specified.\n"
          ]
        }
      ]
    },
    {
      "cell_type": "markdown",
      "metadata": {
        "id": "3osOYwEPvocL"
      },
      "source": [
        "p_value < 0.05\n",
        "\n",
        "On a 5% significance level, Asian Software engineers with a master degree have a significantly higher compensation than those who do not have a master degree."
      ]
    },
    {
      "cell_type": "code",
      "metadata": {
        "colab": {
          "base_uri": "https://localhost:8080/"
        },
        "id": "KbUVYg8sw3Go",
        "outputId": "873a16ad-b250-4a5d-e545-e622536d6154"
      },
      "source": [
        "# master x race_White\n",
        "regression1 = sm.ols(formula=\"totalyearlycompensation ~ master_or_bachelor_dm + Race_White + master_or_bachelor_dm * Race_White\", \n",
        "                data=master_or_bachelor).fit()\n",
        "print(regression1.summary())"
      ],
      "execution_count": null,
      "outputs": [
        {
          "output_type": "stream",
          "name": "stdout",
          "text": [
            "                               OLS Regression Results                              \n",
            "===================================================================================\n",
            "Dep. Variable:     totalyearlycompensation   R-squared:                       0.038\n",
            "Model:                                 OLS   Adj. R-squared:                  0.038\n",
            "Method:                      Least Squares   F-statistic:                     219.2\n",
            "Date:                     Thu, 02 Dec 2021   Prob (F-statistic):          1.94e-139\n",
            "Time:                             05:46:02   Log-Likelihood:            -2.1415e+05\n",
            "No. Observations:                    16431   AIC:                         4.283e+05\n",
            "Df Residuals:                        16427   BIC:                         4.283e+05\n",
            "Df Model:                                3                                         \n",
            "Covariance Type:                 nonrobust                                         \n",
            "====================================================================================================\n",
            "                                       coef    std err          t      P>|t|      [0.025      0.975]\n",
            "----------------------------------------------------------------------------------------------------\n",
            "Intercept                         1.581e+05   1531.919    103.180      0.000    1.55e+05    1.61e+05\n",
            "master_or_bachelor_dm             5.075e+04   2015.621     25.178      0.000    4.68e+04    5.47e+04\n",
            "Race_White                        2.961e+04   2556.059     11.586      0.000    2.46e+04    3.46e+04\n",
            "master_or_bachelor_dm:Race_White  -3.45e+04   4351.884     -7.928      0.000    -4.3e+04    -2.6e+04\n",
            "==============================================================================\n",
            "Omnibus:                     6982.281   Durbin-Watson:                   1.884\n",
            "Prob(Omnibus):                  0.000   Jarque-Bera (JB):            48174.592\n",
            "Skew:                           1.904   Prob(JB):                         0.00\n",
            "Kurtosis:                      10.474   Cond. No.                         6.59\n",
            "==============================================================================\n",
            "\n",
            "Warnings:\n",
            "[1] Standard Errors assume that the covariance matrix of the errors is correctly specified.\n"
          ]
        }
      ]
    },
    {
      "cell_type": "markdown",
      "metadata": {
        "id": "Y6TKFea6xARW"
      },
      "source": [
        "p_value < 0.05\n",
        "\n",
        "On a 5% significance level, White STEM workers with a master degree have a significantly higher compensation than those who do not have a master degree."
      ]
    },
    {
      "cell_type": "code",
      "metadata": {
        "colab": {
          "base_uri": "https://localhost:8080/"
        },
        "id": "s6fY4KBTx44C",
        "outputId": "f916e88a-346f-4db2-e1b3-d661d35e7b2b"
      },
      "source": [
        "# master x race_Black\n",
        "regression1 = sm.ols(formula=\"totalyearlycompensation ~ master_or_bachelor_dm + Race_Black + master_or_bachelor_dm * Race_Black\", \n",
        "                data=master_or_bachelor).fit()\n",
        "print(regression1.summary())"
      ],
      "execution_count": null,
      "outputs": [
        {
          "output_type": "stream",
          "name": "stdout",
          "text": [
            "                               OLS Regression Results                              \n",
            "===================================================================================\n",
            "Dep. Variable:     totalyearlycompensation   R-squared:                       0.031\n",
            "Model:                                 OLS   Adj. R-squared:                  0.031\n",
            "Method:                      Least Squares   F-statistic:                     173.9\n",
            "Date:                     Thu, 02 Dec 2021   Prob (F-statistic):          5.43e-111\n",
            "Time:                             05:46:03   Log-Likelihood:            -2.1421e+05\n",
            "No. Observations:                    16431   AIC:                         4.284e+05\n",
            "Df Residuals:                        16427   BIC:                         4.285e+05\n",
            "Df Model:                                3                                         \n",
            "Covariance Type:                 nonrobust                                         \n",
            "====================================================================================================\n",
            "                                       coef    std err          t      P>|t|      [0.025      0.975]\n",
            "----------------------------------------------------------------------------------------------------\n",
            "Intercept                         1.689e+05   1251.188    134.963      0.000    1.66e+05    1.71e+05\n",
            "master_or_bachelor_dm             3.951e+04   1752.272     22.548      0.000    3.61e+04    4.29e+04\n",
            "Race_Black                       -5139.4179   7030.477     -0.731      0.465   -1.89e+04    8641.078\n",
            "master_or_bachelor_dm:Race_Black -1.931e+04   1.43e+04     -1.348      0.178   -4.74e+04    8774.929\n",
            "==============================================================================\n",
            "Omnibus:                     6958.443   Durbin-Watson:                   1.884\n",
            "Prob(Omnibus):                  0.000   Jarque-Bera (JB):            48407.586\n",
            "Skew:                           1.893   Prob(JB):                         0.00\n",
            "Kurtosis:                      10.508   Cond. No.                         19.6\n",
            "==============================================================================\n",
            "\n",
            "Warnings:\n",
            "[1] Standard Errors assume that the covariance matrix of the errors is correctly specified.\n"
          ]
        }
      ]
    },
    {
      "cell_type": "markdown",
      "metadata": {
        "id": "KPYNlNx6yDFK"
      },
      "source": [
        "p_value > 0.05\n",
        "\n",
        "On a 5% significance level, Black STEM workers with a master degree does not have a significantly higher compensation than those who do not have a master degree."
      ]
    },
    {
      "cell_type": "code",
      "metadata": {
        "colab": {
          "base_uri": "https://localhost:8080/"
        },
        "id": "nLSC_8o6yWvK",
        "outputId": "e8365871-6960-4e5f-fe32-9b1f91e40d86"
      },
      "source": [
        "# master x race_Hispanic\n",
        "regression1 = sm.ols(formula=\"totalyearlycompensation ~ master_or_bachelor_dm + Race_Hispanic + master_or_bachelor_dm * Race_Hispanic\", \n",
        "                data=master_or_bachelor).fit()\n",
        "print(regression1.summary())"
      ],
      "execution_count": null,
      "outputs": [
        {
          "output_type": "stream",
          "name": "stdout",
          "text": [
            "                               OLS Regression Results                              \n",
            "===================================================================================\n",
            "Dep. Variable:     totalyearlycompensation   R-squared:                       0.031\n",
            "Model:                                 OLS   Adj. R-squared:                  0.030\n",
            "Method:                      Least Squares   F-statistic:                     172.7\n",
            "Date:                     Thu, 02 Dec 2021   Prob (F-statistic):          2.93e-110\n",
            "Time:                             05:46:03   Log-Likelihood:            -2.1422e+05\n",
            "No. Observations:                    16431   AIC:                         4.284e+05\n",
            "Df Residuals:                        16427   BIC:                         4.285e+05\n",
            "Df Model:                                3                                         \n",
            "Covariance Type:                 nonrobust                                         \n",
            "=======================================================================================================\n",
            "                                          coef    std err          t      P>|t|      [0.025      0.975]\n",
            "-------------------------------------------------------------------------------------------------------\n",
            "Intercept                            1.684e+05   1268.643    132.755      0.000    1.66e+05    1.71e+05\n",
            "master_or_bachelor_dm                3.978e+04   1767.269     22.507      0.000    3.63e+04    4.32e+04\n",
            "Race_Hispanic                        4875.5444   5270.366      0.925      0.355   -5454.944    1.52e+04\n",
            "master_or_bachelor_dm:Race_Hispanic -8609.6135   1.13e+04     -0.763      0.445   -3.07e+04    1.35e+04\n",
            "==============================================================================\n",
            "Omnibus:                     6965.882   Durbin-Watson:                   1.885\n",
            "Prob(Omnibus):                  0.000   Jarque-Bera (JB):            48506.749\n",
            "Skew:                           1.895   Prob(JB):                         0.00\n",
            "Kurtosis:                      10.515   Cond. No.                         15.3\n",
            "==============================================================================\n",
            "\n",
            "Warnings:\n",
            "[1] Standard Errors assume that the covariance matrix of the errors is correctly specified.\n"
          ]
        }
      ]
    },
    {
      "cell_type": "markdown",
      "metadata": {
        "id": "UlFOgbG7yfaD"
      },
      "source": [
        "p_value > 0.05\n",
        "\n",
        "On a 5% significance level, Hispanic STEM workers with a master degree does not have a significantly higher compensation than those who do not have a master degree."
      ]
    },
    {
      "cell_type": "markdown",
      "metadata": {
        "id": "2kOSy9GlynTn"
      },
      "source": [
        "In conclusion, the regression suggests: for Asian/White software engineers, having a master degree significantly increases total compensation; whereas for Black/Hispanic software engineers, having a master degree does not seem to have a significant impact on total compensation."
      ]
    },
    {
      "cell_type": "code",
      "metadata": {
        "id": "tBL_R44evRSU"
      },
      "source": [
        ""
      ],
      "execution_count": null,
      "outputs": []
    },
    {
      "cell_type": "markdown",
      "metadata": {
        "id": "YJOd1X5WpXYE"
      },
      "source": [
        "# Conclusion"
      ]
    },
    {
      "cell_type": "markdown",
      "metadata": {
        "id": "sZ1zv8iVrvt4"
      },
      "source": [
        "- Master vs Bachelor: Software Engineers with a Master degree will earn \\$30510 more than those with only a Bachelor degree, controlling for other variables.\n",
        "- Master vs Ph.D: Software Engineers with a Master degree will earn $93666 more than those with a Master degree, controlling for other variables.\n",
        "\n",
        "A master's degree come with a higher compensation in Software Engineering jobs compared with a bachelor's degree but not with a phD's degree. \n",
        "Higher level of education does lead to higher total yearly compensation in workplaces, at least for Software Engineering roles.\n"
      ]
    },
    {
      "cell_type": "code",
      "metadata": {
        "id": "wek4IwFirl0J"
      },
      "source": [
        ""
      ],
      "execution_count": null,
      "outputs": []
    }
  ]
}